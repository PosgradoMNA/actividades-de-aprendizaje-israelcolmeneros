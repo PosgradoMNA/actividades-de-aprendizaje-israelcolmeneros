{
 "cells": [
  {
   "cell_type": "markdown",
   "metadata": {},
   "source": [
    "Modulo 3: Exploratory Data Analysis"
   ]
  },
  {
   "cell_type": "markdown",
   "metadata": {},
   "source": [
    "Exploratory Data Analysis  (EDA)\n",
    "Simmarize maun characteristics of the data\n",
    "Descriptive statistics\n",
    "GroupBy\n",
    "ANOVA\n",
    "Correlation\n",
    "Correlacion avanzada"
   ]
  },
  {
   "cell_type": "markdown",
   "metadata": {},
   "source": [
    "Descriptive Statistics \n",
    "Antes de hacer cualquier modelo, es necesario explorar la data antes.\n",
    "df.describe() nos puede dar estadisticos basicos \n",
    "value_counts()\n",
    "box plots nos ayudan para identificar la distribucion de la data\n",
    "sns.boxplot()\n",
    "X- Predictor/independent on x-axis\n",
    "y-Target/dependent on y.axis\n"
   ]
  },
  {
   "cell_type": "markdown",
   "metadata": {},
   "source": [
    "GroupBy in Python\n",
    "dataframe.Groupby()\n",
    "se puede usar en variable categoricas\n",
    "df.pivot() de forma similar como funciona excel\n",
    "heatmap sirve para describir graficamente la informacion\n"
   ]
  },
  {
   "cell_type": "markdown",
   "metadata": {},
   "source": [
    "Analysis of Variance ANOVA\n",
    "Statistical  comparison of groups\n",
    "(analysis of variances)\n",
    "encontrar correlacion entre dos grupos de variables categoricas\n",
    "F VALUE & P VALUE"
   ]
  },
  {
   "cell_type": "markdown",
   "metadata": {},
   "source": [
    "Correlation\n",
    "Lung cancer - Smoking\n",
    "correlation doesnt imply causation\n",
    "la lluvia produce los paraguas o el paraguas causa la lluvia? normalmente en DS con tener correlation nos basta para entrenar nuestros modelos\n",
    "\n",
    "Pearson correlation\n",
    "P-value and correlation coefficient\n",
    "\n",
    "Se pueden juntar estos conceptos con un heatmap para ver graficamente estas metricas\n"
   ]
  },
  {
   "cell_type": "code",
   "execution_count": 2,
   "metadata": {},
   "outputs": [],
   "source": [
    "#LAB 3\n",
    "import pandas as pd\n",
    "import matplotlib as mp\n",
    "import scipy as sp\n",
    "import seaborn as sb\n",
    "import numpy as np\n"
   ]
  },
  {
   "cell_type": "code",
   "execution_count": null,
   "metadata": {},
   "outputs": [],
   "source": [
    "#This function will download the dataset into your browser \n",
    "\n",
    "from pyodide.http import pyfetch\n",
    "\n",
    "async def download(url, filename):\n",
    "    response = await pyfetch(url)\n",
    "    if response.status == 200:\n",
    "        with open(filename, \"wb\") as f:\n",
    "            f.write(await response.bytes())\n",
    "path='https://cf-courses-data.s3.us.cloud-object-storage.appdomain.cloud/IBMDeveloperSkillsNetwork-DA0101EN-SkillsNetwork/labs/Data%20files/automobileEDA.csv'\n",
    "await download(path, \"auto.csv\")\n",
    "filename=\"auto.csv\"\n",
    "df = pd.read_csv(filename)\n",
    "df.head()\n",
    "\n",
    "import matplotlib.pyplot as plt\n",
    "import seaborn as sns\n",
    "%matplotlib inline \n",
    "# list the data types for each column\n",
    "print(df.dtypes)"
   ]
  },
  {
   "cell_type": "code",
   "execution_count": null,
   "metadata": {},
   "outputs": [],
   "source": [
    "#Q1\n",
    "df['peak-rpm'].dtypes\n",
    "df.corr()\n",
    "#Q2\n",
    "df[['bore', 'stroke', 'compression-ratio', 'horsepower']].corr()"
   ]
  },
  {
   "cell_type": "code",
   "execution_count": null,
   "metadata": {},
   "outputs": [],
   "source": [
    "# Engine size as potential predictor variable of price\n",
    "sns.regplot(x=\"engine-size\", y=\"price\", data=df)\n",
    "plt.ylim(0,)\n",
    "df[[\"engine-size\", \"price\"]].corr()\n",
    "sns.regplot(x=\"highway-mpg\", y=\"price\", data=df)\n",
    "df[['highway-mpg', 'price']].corr()\n",
    "sns.regplot(x=\"peak-rpm\", y=\"price\", data=df)\n",
    "df[['peak-rpm','price']].corr()"
   ]
  },
  {
   "cell_type": "code",
   "execution_count": null,
   "metadata": {},
   "outputs": [],
   "source": [
    "#Q3\n",
    "df[[\"stroke\",\"price\"]].corr()\n",
    "sns.regplot(x=\"stroke\", y=\"price\", data=df)\n",
    "#Q4\n",
    "df_gptest2 = df[['body-style','price']]\n",
    "grouped_test_bodystyle = df_gptest2.groupby(['body-style'],as_index= False).mean()\n",
    "grouped_test_bodystyle"
   ]
  },
  {
   "cell_type": "code",
   "execution_count": null,
   "metadata": {},
   "outputs": [],
   "source": [
    "pearson_coef, p_value = stats.pearsonr(df['length'], df['price'])\n",
    "print(\"The Pearson Correlation Coefficient is\", pearson_coef, \" with a P-value of P = \", p_value)  \n",
    "pearson_coef, p_value = stats.pearsonr(df['width'], df['price'])\n",
    "print(\"The Pearson Correlation Coefficient is\", pearson_coef, \" with a P-value of P =\", p_value ) "
   ]
  }
 ],
 "metadata": {
  "kernelspec": {
   "display_name": "Python 3.10.5 64-bit",
   "language": "python",
   "name": "python3"
  },
  "language_info": {
   "codemirror_mode": {
    "name": "ipython",
    "version": 3
   },
   "file_extension": ".py",
   "mimetype": "text/x-python",
   "name": "python",
   "nbconvert_exporter": "python",
   "pygments_lexer": "ipython3",
   "version": "3.10.5"
  },
  "orig_nbformat": 4,
  "vscode": {
   "interpreter": {
    "hash": "92ef8d22b629b1700fd535cf7177d6b2181f29ca6fc262a3063509d04aaf2a38"
   }
  }
 },
 "nbformat": 4,
 "nbformat_minor": 2
}
