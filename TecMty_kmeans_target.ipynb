{
  "cells": [
    {
      "cell_type": "markdown",
      "metadata": {
        "id": "6mUW5QNwhz5T"
      },
      "source": [
        "Este notebook se basa en información de target\n",
        "![imagen.png](https://www.america-retail.com/static//2020/12/target01.jpg)\n",
        "\n",
        "\n",
        "Ahora imagina que somos parte del equipo de data science de la empresa Target, una de las tiendas con mayor presencia en Estados Unidos. El departamento de logistica acude a nosotros para saber donde le conviene poner sus almacenes, para que se optimice el gasto de gasolina, los tiempos de entrega de los productos y se disminuyan costos. Para ello, nos pasan los datos de latitud y longitud de cada una de las tiendas.\n",
        "\n",
        "https://www.kaggle.com/datasets/saejinmahlauheinert/target-store-locations?select=target-locations.csv\n",
        "\n",
        "Si quieres saber un poco más de graficas geográficas consulta el siguiente notebook\n",
        "https://colab.research.google.com/github/QuantEcon/quantecon-notebooks-datascience/blob/master/applications/maps.ipynb#scrollTo=uo2oPtSCeAOz"
      ]
    },
    {
      "cell_type": "code",
      "execution_count": 43,
      "metadata": {
        "id": "WBpdGjbquQii"
      },
      "outputs": [],
      "source": [
        "import pandas as pd\n",
        "import numpy as np\n",
        "from tqdm import tqdm\n",
        "#%matplotlib inline\n",
        "import numpy as np\n",
        "import matplotlib.pyplot as plt\n",
        "import geopandas"
      ]
    },
    {
      "cell_type": "markdown",
      "metadata": {
        "id": "KNTIoZlGvPum"
      },
      "source": [
        "Importa la base de datos"
      ]
    },
    {
      "cell_type": "code",
      "execution_count": 44,
      "metadata": {
        "id": "PAJWHRVN781V"
      },
      "outputs": [],
      "source": [
        "url=\"https://raw.githubusercontent.com/marypazrf/bdd/main/target-locations.csv\"\n",
        "df=pd.read_csv(url)"
      ]
    },
    {
      "cell_type": "markdown",
      "metadata": {
        "id": "sH4hvPAYvUGY"
      },
      "source": [
        "Exploremos los datos."
      ]
    },
    {
      "cell_type": "code",
      "execution_count": 45,
      "metadata": {
        "colab": {
          "base_uri": "https://localhost:8080/",
          "height": 206
        },
        "id": "DuzNp7KseyBg",
        "outputId": "9d08c3b6-e45a-4175-b61f-f84fbb9e3704"
      },
      "outputs": [
        {
          "data": {
            "text/html": [
              "<div>\n",
              "<style scoped>\n",
              "    .dataframe tbody tr th:only-of-type {\n",
              "        vertical-align: middle;\n",
              "    }\n",
              "\n",
              "    .dataframe tbody tr th {\n",
              "        vertical-align: top;\n",
              "    }\n",
              "\n",
              "    .dataframe thead th {\n",
              "        text-align: right;\n",
              "    }\n",
              "</style>\n",
              "<table border=\"1\" class=\"dataframe\">\n",
              "  <thead>\n",
              "    <tr style=\"text-align: right;\">\n",
              "      <th></th>\n",
              "      <th>name</th>\n",
              "      <th>latitude</th>\n",
              "      <th>longitude</th>\n",
              "      <th>address</th>\n",
              "      <th>phone</th>\n",
              "      <th>website</th>\n",
              "    </tr>\n",
              "  </thead>\n",
              "  <tbody>\n",
              "    <tr>\n",
              "      <th>0</th>\n",
              "      <td>Alabaster</td>\n",
              "      <td>33.224225</td>\n",
              "      <td>-86.804174</td>\n",
              "      <td>250 S Colonial Dr, Alabaster, AL 35007-4657</td>\n",
              "      <td>205-564-2608</td>\n",
              "      <td>https://www.target.com/sl/alabaster/2276</td>\n",
              "    </tr>\n",
              "    <tr>\n",
              "      <th>1</th>\n",
              "      <td>Bessemer</td>\n",
              "      <td>33.334550</td>\n",
              "      <td>-86.989778</td>\n",
              "      <td>4889 Promenade Pkwy, Bessemer, AL 35022-7305</td>\n",
              "      <td>205-565-3760</td>\n",
              "      <td>https://www.target.com/sl/bessemer/2375</td>\n",
              "    </tr>\n",
              "    <tr>\n",
              "      <th>2</th>\n",
              "      <td>Daphne</td>\n",
              "      <td>30.602875</td>\n",
              "      <td>-87.895932</td>\n",
              "      <td>1698 US Highway 98, Daphne, AL 36526-4252</td>\n",
              "      <td>251-621-3540</td>\n",
              "      <td>https://www.target.com/sl/daphne/1274</td>\n",
              "    </tr>\n",
              "    <tr>\n",
              "      <th>3</th>\n",
              "      <td>Decatur</td>\n",
              "      <td>34.560148</td>\n",
              "      <td>-86.971559</td>\n",
              "      <td>1235 Point Mallard Pkwy SE, Decatur, AL 35601-...</td>\n",
              "      <td>256-898-3036</td>\n",
              "      <td>https://www.target.com/sl/decatur/2084</td>\n",
              "    </tr>\n",
              "    <tr>\n",
              "      <th>4</th>\n",
              "      <td>Dothan</td>\n",
              "      <td>31.266061</td>\n",
              "      <td>-85.446422</td>\n",
              "      <td>4601 Montgomery Hwy, Dothan, AL 36303-1522</td>\n",
              "      <td>334-340-1112</td>\n",
              "      <td>https://www.target.com/sl/dothan/1468</td>\n",
              "    </tr>\n",
              "  </tbody>\n",
              "</table>\n",
              "</div>"
            ],
            "text/plain": [
              "        name   latitude  longitude  \\\n",
              "0  Alabaster  33.224225 -86.804174   \n",
              "1   Bessemer  33.334550 -86.989778   \n",
              "2     Daphne  30.602875 -87.895932   \n",
              "3    Decatur  34.560148 -86.971559   \n",
              "4     Dothan  31.266061 -85.446422   \n",
              "\n",
              "                                             address         phone  \\\n",
              "0        250 S Colonial Dr, Alabaster, AL 35007-4657  205-564-2608   \n",
              "1       4889 Promenade Pkwy, Bessemer, AL 35022-7305  205-565-3760   \n",
              "2          1698 US Highway 98, Daphne, AL 36526-4252  251-621-3540   \n",
              "3  1235 Point Mallard Pkwy SE, Decatur, AL 35601-...  256-898-3036   \n",
              "4         4601 Montgomery Hwy, Dothan, AL 36303-1522  334-340-1112   \n",
              "\n",
              "                                    website  \n",
              "0  https://www.target.com/sl/alabaster/2276  \n",
              "1   https://www.target.com/sl/bessemer/2375  \n",
              "2     https://www.target.com/sl/daphne/1274  \n",
              "3    https://www.target.com/sl/decatur/2084  \n",
              "4     https://www.target.com/sl/dothan/1468  "
            ]
          },
          "execution_count": 45,
          "metadata": {},
          "output_type": "execute_result"
        }
      ],
      "source": [
        "\n",
        "df.head()\n"
      ]
    },
    {
      "cell_type": "code",
      "execution_count": 46,
      "metadata": {
        "colab": {
          "base_uri": "https://localhost:8080/"
        },
        "id": "MxbhdLkavl7Q",
        "outputId": "a8717c27-b24d-4d71-9153-3f94ee0db339"
      },
      "outputs": [
        {
          "name": "stdout",
          "output_type": "stream",
          "text": [
            "<class 'pandas.core.frame.DataFrame'>\n",
            "RangeIndex: 1839 entries, 0 to 1838\n",
            "Data columns (total 6 columns):\n",
            " #   Column     Non-Null Count  Dtype  \n",
            "---  ------     --------------  -----  \n",
            " 0   name       1839 non-null   object \n",
            " 1   latitude   1839 non-null   float64\n",
            " 2   longitude  1839 non-null   float64\n",
            " 3   address    1839 non-null   object \n",
            " 4   phone      1839 non-null   object \n",
            " 5   website    1839 non-null   object \n",
            "dtypes: float64(2), object(4)\n",
            "memory usage: 86.3+ KB\n"
          ]
        }
      ],
      "source": [
        "df.info()"
      ]
    },
    {
      "cell_type": "markdown",
      "metadata": {
        "id": "cpfqKT4qxAZz"
      },
      "source": [
        "**Definición de Latitud y Longitud**\n",
        "\n",
        "**Latitud** Es la distancia en grados, minutos y segundos que hay con respecto al paralelo principal, que es el ecuador (0º). La latitud puede ser norte y sur.\n",
        "\n",
        "**Longitud**: Es la distancia en grados, minutos y segundos que hay con respecto al meridiano principal, que es el meridiano de Greenwich (0º).La longitud puede ser este y oeste."
      ]
    },
    {
      "cell_type": "code",
      "execution_count": 47,
      "metadata": {
        "id": "oPzX3DGju0As"
      },
      "outputs": [],
      "source": [
        "latlong=df[[\"latitude\",\"longitude\"]]"
      ]
    },
    {
      "cell_type": "markdown",
      "metadata": {
        "id": "gMk6UVE2e67y"
      },
      "source": [
        "¡Visualizemos los datos!, para empezar a notar algún patron. \n",
        "\n",
        "A simple vista pudieramos pensar que tenemos algunos datos atípicos u outliers, pero .... no es así, simplemente esta grafica no nos está dando toda la información."
      ]
    },
    {
      "cell_type": "code",
      "execution_count": 48,
      "metadata": {
        "colab": {
          "base_uri": "https://localhost:8080/",
          "height": 297
        },
        "id": "-QZRqKiDfj2J",
        "outputId": "a58414cd-78fd-4d51-d02e-0abbc46caeee"
      },
      "outputs": [
        {
          "name": "stderr",
          "output_type": "stream",
          "text": [
            "c:\\Users\\israc\\AppData\\Local\\Programs\\Python\\Python310\\lib\\site-packages\\pandas\\plotting\\_matplotlib\\core.py:1114: UserWarning: No data for colormapping provided via 'c'. Parameters 'cmap' will be ignored\n",
            "  scatter = ax.scatter(\n"
          ]
        },
        {
          "data": {
            "text/plain": [
              "<AxesSubplot: xlabel='longitude', ylabel='latitude'>"
            ]
          },
          "execution_count": 48,
          "metadata": {},
          "output_type": "execute_result"
        },
        {
          "name": "stderr",
          "output_type": "stream",
          "text": [
            "findfont: Font family 'Source Sans Pro' not found.\n",
            "findfont: Font family 'Source Sans Pro' not found.\n",
            "findfont: Font family 'Source Sans Pro' not found.\n",
            "findfont: Font family 'Source Sans Pro' not found.\n",
            "findfont: Font family 'Source Sans Pro' not found.\n",
            "findfont: Font family 'Source Sans Pro' not found.\n",
            "findfont: Font family 'Source Sans Pro' not found.\n",
            "findfont: Font family 'Source Sans Pro' not found.\n",
            "findfont: Font family 'Source Sans Pro' not found.\n",
            "findfont: Font family 'Source Sans Pro' not found.\n",
            "findfont: Font family 'Source Sans Pro' not found.\n",
            "findfont: Font family 'Source Sans Pro' not found.\n",
            "findfont: Font family 'Source Sans Pro' not found.\n",
            "findfont: Font family 'Source Sans Pro' not found.\n",
            "findfont: Font family 'Source Sans Pro' not found.\n",
            "findfont: Font family 'Source Sans Pro' not found.\n",
            "findfont: Font family 'Source Sans Pro' not found.\n",
            "findfont: Font family 'Source Sans Pro' not found.\n",
            "findfont: Font family 'Source Sans Pro' not found.\n",
            "findfont: Font family 'Source Sans Pro' not found.\n",
            "findfont: Font family 'Source Sans Pro' not found.\n",
            "findfont: Font family 'Source Sans Pro' not found.\n",
            "findfont: Font family 'Source Sans Pro' not found.\n",
            "findfont: Font family 'Source Sans Pro' not found.\n",
            "findfont: Font family 'Source Sans Pro' not found.\n",
            "findfont: Font family 'Source Sans Pro' not found.\n",
            "findfont: Font family 'Source Sans Pro' not found.\n",
            "findfont: Font family 'Source Sans Pro' not found.\n",
            "findfont: Font family 'Source Sans Pro' not found.\n",
            "findfont: Font family 'Source Sans Pro' not found.\n",
            "findfont: Font family 'Source Sans Pro' not found.\n",
            "findfont: Font family 'Source Sans Pro' not found.\n",
            "findfont: Font family 'Source Sans Pro' not found.\n",
            "findfont: Font family 'Source Sans Pro' not found.\n",
            "findfont: Font family 'Source Sans Pro' not found.\n",
            "findfont: Font family 'Source Sans Pro' not found.\n",
            "findfont: Font family 'Source Sans Pro' not found.\n",
            "findfont: Font family 'Source Sans Pro' not found.\n",
            "findfont: Font family 'Source Sans Pro' not found.\n",
            "findfont: Font family 'Source Sans Pro' not found.\n",
            "findfont: Font family 'Source Sans Pro' not found.\n",
            "findfont: Font family 'Source Sans Pro' not found.\n",
            "findfont: Font family 'Source Sans Pro' not found.\n",
            "findfont: Font family 'Source Sans Pro' not found.\n",
            "findfont: Font family 'Source Sans Pro' not found.\n",
            "findfont: Font family 'Source Sans Pro' not found.\n",
            "findfont: Font family 'Source Sans Pro' not found.\n",
            "findfont: Font family 'Source Sans Pro' not found.\n",
            "findfont: Font family 'Source Sans Pro' not found.\n",
            "findfont: Font family 'Source Sans Pro' not found.\n",
            "findfont: Font family 'Source Sans Pro' not found.\n",
            "findfont: Font family 'Source Sans Pro' not found.\n"
          ]
        },
        {
          "data": {
            "image/png": "[encoded data removed]",
            "text/plain": [
              "<Figure size 432x288 with 1 Axes>"
            ]
          },
          "metadata": {},
          "output_type": "display_data"
        }
      ],
      "source": [
        "#extrae los datos interesantes\n",
        "latlong.plot.scatter( \"longitude\",\"latitude\")"
      ]
    },
    {
      "cell_type": "code",
      "execution_count": 49,
      "metadata": {
        "colab": {
          "base_uri": "https://localhost:8080/",
          "height": 300
        },
        "id": "O6b3QguyyjM_",
        "outputId": "3acf887d-944c-4cf0-849d-471fa614c795"
      },
      "outputs": [
        {
          "data": {
            "text/html": [
              "<div>\n",
              "<style scoped>\n",
              "    .dataframe tbody tr th:only-of-type {\n",
              "        vertical-align: middle;\n",
              "    }\n",
              "\n",
              "    .dataframe tbody tr th {\n",
              "        vertical-align: top;\n",
              "    }\n",
              "\n",
              "    .dataframe thead th {\n",
              "        text-align: right;\n",
              "    }\n",
              "</style>\n",
              "<table border=\"1\" class=\"dataframe\">\n",
              "  <thead>\n",
              "    <tr style=\"text-align: right;\">\n",
              "      <th></th>\n",
              "      <th>latitude</th>\n",
              "      <th>longitude</th>\n",
              "    </tr>\n",
              "  </thead>\n",
              "  <tbody>\n",
              "    <tr>\n",
              "      <th>count</th>\n",
              "      <td>1839.000000</td>\n",
              "      <td>1839.000000</td>\n",
              "    </tr>\n",
              "    <tr>\n",
              "      <th>mean</th>\n",
              "      <td>37.791238</td>\n",
              "      <td>-91.986881</td>\n",
              "    </tr>\n",
              "    <tr>\n",
              "      <th>std</th>\n",
              "      <td>5.272299</td>\n",
              "      <td>16.108046</td>\n",
              "    </tr>\n",
              "    <tr>\n",
              "      <th>min</th>\n",
              "      <td>19.647855</td>\n",
              "      <td>-159.376962</td>\n",
              "    </tr>\n",
              "    <tr>\n",
              "      <th>25%</th>\n",
              "      <td>33.882605</td>\n",
              "      <td>-98.268828</td>\n",
              "    </tr>\n",
              "    <tr>\n",
              "      <th>50%</th>\n",
              "      <td>38.955432</td>\n",
              "      <td>-87.746346</td>\n",
              "    </tr>\n",
              "    <tr>\n",
              "      <th>75%</th>\n",
              "      <td>41.658341</td>\n",
              "      <td>-80.084833</td>\n",
              "    </tr>\n",
              "    <tr>\n",
              "      <th>max</th>\n",
              "      <td>61.577919</td>\n",
              "      <td>-68.742331</td>\n",
              "    </tr>\n",
              "  </tbody>\n",
              "</table>\n",
              "</div>"
            ],
            "text/plain": [
              "          latitude    longitude\n",
              "count  1839.000000  1839.000000\n",
              "mean     37.791238   -91.986881\n",
              "std       5.272299    16.108046\n",
              "min      19.647855  -159.376962\n",
              "25%      33.882605   -98.268828\n",
              "50%      38.955432   -87.746346\n",
              "75%      41.658341   -80.084833\n",
              "max      61.577919   -68.742331"
            ]
          },
          "execution_count": 49,
          "metadata": {},
          "output_type": "execute_result"
        }
      ],
      "source": [
        "latlong.describe()"
      ]
    },
    {
      "cell_type": "markdown",
      "metadata": {
        "id": "hkPMyAyIDunz"
      },
      "source": [
        "Para entender un poco más, nos auxiliaremos de una librería para graficar datos geográficos. Esto nos ayudara a tener un mejor entendimiento de ellos.\n",
        "\n",
        "\n"
      ]
    },
    {
      "cell_type": "code",
      "execution_count": 50,
      "metadata": {
        "id": "_blyM4esyJTu"
      },
      "outputs": [],
      "source": [
        "import geopandas as gpd\n",
        "import matplotlib.pyplot as plt\n",
        "import pandas as pd\n",
        "\n",
        "from shapely.geometry import Point\n",
        "\n",
        "#%matplotlib inline\n",
        "# activate plot theme\n",
        "import qeds\n",
        "qeds.themes.mpl_style();"
      ]
    },
    {
      "cell_type": "code",
      "execution_count": 51,
      "metadata": {
        "colab": {
          "base_uri": "https://localhost:8080/",
          "height": 206
        },
        "id": "01i0TciKfPco",
        "outputId": "3662ce4c-9349-4aba-fc07-e8d4c3eac83a"
      },
      "outputs": [
        {
          "data": {
            "text/html": [
              "<div>\n",
              "<style scoped>\n",
              "    .dataframe tbody tr th:only-of-type {\n",
              "        vertical-align: middle;\n",
              "    }\n",
              "\n",
              "    .dataframe tbody tr th {\n",
              "        vertical-align: top;\n",
              "    }\n",
              "\n",
              "    .dataframe thead th {\n",
              "        text-align: right;\n",
              "    }\n",
              "</style>\n",
              "<table border=\"1\" class=\"dataframe\">\n",
              "  <thead>\n",
              "    <tr style=\"text-align: right;\">\n",
              "      <th></th>\n",
              "      <th>name</th>\n",
              "      <th>latitude</th>\n",
              "      <th>longitude</th>\n",
              "      <th>address</th>\n",
              "      <th>phone</th>\n",
              "      <th>website</th>\n",
              "      <th>Coordinates</th>\n",
              "    </tr>\n",
              "  </thead>\n",
              "  <tbody>\n",
              "    <tr>\n",
              "      <th>0</th>\n",
              "      <td>Alabaster</td>\n",
              "      <td>33.224225</td>\n",
              "      <td>-86.804174</td>\n",
              "      <td>250 S Colonial Dr, Alabaster, AL 35007-4657</td>\n",
              "      <td>205-564-2608</td>\n",
              "      <td>https://www.target.com/sl/alabaster/2276</td>\n",
              "      <td>POINT (-86.80417369999999 33.2242254)</td>\n",
              "    </tr>\n",
              "    <tr>\n",
              "      <th>1</th>\n",
              "      <td>Bessemer</td>\n",
              "      <td>33.334550</td>\n",
              "      <td>-86.989778</td>\n",
              "      <td>4889 Promenade Pkwy, Bessemer, AL 35022-7305</td>\n",
              "      <td>205-565-3760</td>\n",
              "      <td>https://www.target.com/sl/bessemer/2375</td>\n",
              "      <td>POINT (-86.98977789999999 33.3345501)</td>\n",
              "    </tr>\n",
              "    <tr>\n",
              "      <th>2</th>\n",
              "      <td>Daphne</td>\n",
              "      <td>30.602875</td>\n",
              "      <td>-87.895932</td>\n",
              "      <td>1698 US Highway 98, Daphne, AL 36526-4252</td>\n",
              "      <td>251-621-3540</td>\n",
              "      <td>https://www.target.com/sl/daphne/1274</td>\n",
              "      <td>POINT (-87.89593169999999 30.6028747)</td>\n",
              "    </tr>\n",
              "    <tr>\n",
              "      <th>3</th>\n",
              "      <td>Decatur</td>\n",
              "      <td>34.560148</td>\n",
              "      <td>-86.971559</td>\n",
              "      <td>1235 Point Mallard Pkwy SE, Decatur, AL 35601-...</td>\n",
              "      <td>256-898-3036</td>\n",
              "      <td>https://www.target.com/sl/decatur/2084</td>\n",
              "      <td>POINT (-86.9715595 34.5601477)</td>\n",
              "    </tr>\n",
              "    <tr>\n",
              "      <th>4</th>\n",
              "      <td>Dothan</td>\n",
              "      <td>31.266061</td>\n",
              "      <td>-85.446422</td>\n",
              "      <td>4601 Montgomery Hwy, Dothan, AL 36303-1522</td>\n",
              "      <td>334-340-1112</td>\n",
              "      <td>https://www.target.com/sl/dothan/1468</td>\n",
              "      <td>POINT (-85.4464222 31.2660613)</td>\n",
              "    </tr>\n",
              "  </tbody>\n",
              "</table>\n",
              "</div>"
            ],
            "text/plain": [
              "        name   latitude  longitude  \\\n",
              "0  Alabaster  33.224225 -86.804174   \n",
              "1   Bessemer  33.334550 -86.989778   \n",
              "2     Daphne  30.602875 -87.895932   \n",
              "3    Decatur  34.560148 -86.971559   \n",
              "4     Dothan  31.266061 -85.446422   \n",
              "\n",
              "                                             address         phone  \\\n",
              "0        250 S Colonial Dr, Alabaster, AL 35007-4657  205-564-2608   \n",
              "1       4889 Promenade Pkwy, Bessemer, AL 35022-7305  205-565-3760   \n",
              "2          1698 US Highway 98, Daphne, AL 36526-4252  251-621-3540   \n",
              "3  1235 Point Mallard Pkwy SE, Decatur, AL 35601-...  256-898-3036   \n",
              "4         4601 Montgomery Hwy, Dothan, AL 36303-1522  334-340-1112   \n",
              "\n",
              "                                    website  \\\n",
              "0  https://www.target.com/sl/alabaster/2276   \n",
              "1   https://www.target.com/sl/bessemer/2375   \n",
              "2     https://www.target.com/sl/daphne/1274   \n",
              "3    https://www.target.com/sl/decatur/2084   \n",
              "4     https://www.target.com/sl/dothan/1468   \n",
              "\n",
              "                             Coordinates  \n",
              "0  POINT (-86.80417369999999 33.2242254)  \n",
              "1  POINT (-86.98977789999999 33.3345501)  \n",
              "2  POINT (-87.89593169999999 30.6028747)  \n",
              "3         POINT (-86.9715595 34.5601477)  \n",
              "4         POINT (-85.4464222 31.2660613)  "
            ]
          },
          "execution_count": 51,
          "metadata": {},
          "output_type": "execute_result"
        }
      ],
      "source": [
        "df[\"Coordinates\"] = list(zip(df.longitude, df.latitude))\n",
        "df[\"Coordinates\"] = df[\"Coordinates\"].apply(Point)\n",
        "df.head()"
      ]
    },
    {
      "cell_type": "code",
      "execution_count": 52,
      "metadata": {
        "colab": {
          "base_uri": "https://localhost:8080/",
          "height": 206
        },
        "id": "SBTBrsvlfIU_",
        "outputId": "f25de2e3-840d-4945-a174-eea2fa7f441d"
      },
      "outputs": [
        {
          "data": {
            "text/html": [
              "<div>\n",
              "<style scoped>\n",
              "    .dataframe tbody tr th:only-of-type {\n",
              "        vertical-align: middle;\n",
              "    }\n",
              "\n",
              "    .dataframe tbody tr th {\n",
              "        vertical-align: top;\n",
              "    }\n",
              "\n",
              "    .dataframe thead th {\n",
              "        text-align: right;\n",
              "    }\n",
              "</style>\n",
              "<table border=\"1\" class=\"dataframe\">\n",
              "  <thead>\n",
              "    <tr style=\"text-align: right;\">\n",
              "      <th></th>\n",
              "      <th>name</th>\n",
              "      <th>latitude</th>\n",
              "      <th>longitude</th>\n",
              "      <th>address</th>\n",
              "      <th>phone</th>\n",
              "      <th>website</th>\n",
              "      <th>Coordinates</th>\n",
              "    </tr>\n",
              "  </thead>\n",
              "  <tbody>\n",
              "    <tr>\n",
              "      <th>0</th>\n",
              "      <td>Alabaster</td>\n",
              "      <td>33.224225</td>\n",
              "      <td>-86.804174</td>\n",
              "      <td>250 S Colonial Dr, Alabaster, AL 35007-4657</td>\n",
              "      <td>205-564-2608</td>\n",
              "      <td>https://www.target.com/sl/alabaster/2276</td>\n",
              "      <td>POINT (-86.80417 33.22423)</td>\n",
              "    </tr>\n",
              "    <tr>\n",
              "      <th>1</th>\n",
              "      <td>Bessemer</td>\n",
              "      <td>33.334550</td>\n",
              "      <td>-86.989778</td>\n",
              "      <td>4889 Promenade Pkwy, Bessemer, AL 35022-7305</td>\n",
              "      <td>205-565-3760</td>\n",
              "      <td>https://www.target.com/sl/bessemer/2375</td>\n",
              "      <td>POINT (-86.98978 33.33455)</td>\n",
              "    </tr>\n",
              "    <tr>\n",
              "      <th>2</th>\n",
              "      <td>Daphne</td>\n",
              "      <td>30.602875</td>\n",
              "      <td>-87.895932</td>\n",
              "      <td>1698 US Highway 98, Daphne, AL 36526-4252</td>\n",
              "      <td>251-621-3540</td>\n",
              "      <td>https://www.target.com/sl/daphne/1274</td>\n",
              "      <td>POINT (-87.89593 30.60287)</td>\n",
              "    </tr>\n",
              "    <tr>\n",
              "      <th>3</th>\n",
              "      <td>Decatur</td>\n",
              "      <td>34.560148</td>\n",
              "      <td>-86.971559</td>\n",
              "      <td>1235 Point Mallard Pkwy SE, Decatur, AL 35601-...</td>\n",
              "      <td>256-898-3036</td>\n",
              "      <td>https://www.target.com/sl/decatur/2084</td>\n",
              "      <td>POINT (-86.97156 34.56015)</td>\n",
              "    </tr>\n",
              "    <tr>\n",
              "      <th>4</th>\n",
              "      <td>Dothan</td>\n",
              "      <td>31.266061</td>\n",
              "      <td>-85.446422</td>\n",
              "      <td>4601 Montgomery Hwy, Dothan, AL 36303-1522</td>\n",
              "      <td>334-340-1112</td>\n",
              "      <td>https://www.target.com/sl/dothan/1468</td>\n",
              "      <td>POINT (-85.44642 31.26606)</td>\n",
              "    </tr>\n",
              "  </tbody>\n",
              "</table>\n",
              "</div>"
            ],
            "text/plain": [
              "        name   latitude  longitude  \\\n",
              "0  Alabaster  33.224225 -86.804174   \n",
              "1   Bessemer  33.334550 -86.989778   \n",
              "2     Daphne  30.602875 -87.895932   \n",
              "3    Decatur  34.560148 -86.971559   \n",
              "4     Dothan  31.266061 -85.446422   \n",
              "\n",
              "                                             address         phone  \\\n",
              "0        250 S Colonial Dr, Alabaster, AL 35007-4657  205-564-2608   \n",
              "1       4889 Promenade Pkwy, Bessemer, AL 35022-7305  205-565-3760   \n",
              "2          1698 US Highway 98, Daphne, AL 36526-4252  251-621-3540   \n",
              "3  1235 Point Mallard Pkwy SE, Decatur, AL 35601-...  256-898-3036   \n",
              "4         4601 Montgomery Hwy, Dothan, AL 36303-1522  334-340-1112   \n",
              "\n",
              "                                    website                 Coordinates  \n",
              "0  https://www.target.com/sl/alabaster/2276  POINT (-86.80417 33.22423)  \n",
              "1   https://www.target.com/sl/bessemer/2375  POINT (-86.98978 33.33455)  \n",
              "2     https://www.target.com/sl/daphne/1274  POINT (-87.89593 30.60287)  \n",
              "3    https://www.target.com/sl/decatur/2084  POINT (-86.97156 34.56015)  \n",
              "4     https://www.target.com/sl/dothan/1468  POINT (-85.44642 31.26606)  "
            ]
          },
          "execution_count": 52,
          "metadata": {},
          "output_type": "execute_result"
        }
      ],
      "source": [
        "gdf = gpd.GeoDataFrame(df, geometry=\"Coordinates\")\n",
        "gdf.head()"
      ]
    },
    {
      "cell_type": "code",
      "execution_count": 53,
      "metadata": {
        "colab": {
          "base_uri": "https://localhost:8080/",
          "height": 237
        },
        "id": "wB6Jkrvbfef1",
        "outputId": "1ea8bb73-a723-4998-98a6-e0ee92deaa31"
      },
      "outputs": [
        {
          "data": {
            "text/html": [
              "<div>\n",
              "<style scoped>\n",
              "    .dataframe tbody tr th:only-of-type {\n",
              "        vertical-align: middle;\n",
              "    }\n",
              "\n",
              "    .dataframe tbody tr th {\n",
              "        vertical-align: top;\n",
              "    }\n",
              "\n",
              "    .dataframe thead th {\n",
              "        text-align: right;\n",
              "    }\n",
              "</style>\n",
              "<table border=\"1\" class=\"dataframe\">\n",
              "  <thead>\n",
              "    <tr style=\"text-align: right;\">\n",
              "      <th></th>\n",
              "      <th>pop_est</th>\n",
              "      <th>continent</th>\n",
              "      <th>name</th>\n",
              "      <th>gdp_md_est</th>\n",
              "      <th>geometry</th>\n",
              "    </tr>\n",
              "    <tr>\n",
              "      <th>iso_a3</th>\n",
              "      <th></th>\n",
              "      <th></th>\n",
              "      <th></th>\n",
              "      <th></th>\n",
              "      <th></th>\n",
              "    </tr>\n",
              "  </thead>\n",
              "  <tbody>\n",
              "    <tr>\n",
              "      <th>FJI</th>\n",
              "      <td>889953.0</td>\n",
              "      <td>Oceania</td>\n",
              "      <td>Fiji</td>\n",
              "      <td>5496</td>\n",
              "      <td>MULTIPOLYGON (((180.00000 -16.06713, 180.00000...</td>\n",
              "    </tr>\n",
              "    <tr>\n",
              "      <th>TZA</th>\n",
              "      <td>58005463.0</td>\n",
              "      <td>Africa</td>\n",
              "      <td>Tanzania</td>\n",
              "      <td>63177</td>\n",
              "      <td>POLYGON ((33.90371 -0.95000, 34.07262 -1.05982...</td>\n",
              "    </tr>\n",
              "    <tr>\n",
              "      <th>ESH</th>\n",
              "      <td>603253.0</td>\n",
              "      <td>Africa</td>\n",
              "      <td>W. Sahara</td>\n",
              "      <td>907</td>\n",
              "      <td>POLYGON ((-8.66559 27.65643, -8.66512 27.58948...</td>\n",
              "    </tr>\n",
              "    <tr>\n",
              "      <th>CAN</th>\n",
              "      <td>37589262.0</td>\n",
              "      <td>North America</td>\n",
              "      <td>Canada</td>\n",
              "      <td>1736425</td>\n",
              "      <td>MULTIPOLYGON (((-122.84000 49.00000, -122.9742...</td>\n",
              "    </tr>\n",
              "    <tr>\n",
              "      <th>USA</th>\n",
              "      <td>328239523.0</td>\n",
              "      <td>North America</td>\n",
              "      <td>United States of America</td>\n",
              "      <td>21433226</td>\n",
              "      <td>MULTIPOLYGON (((-122.84000 49.00000, -120.0000...</td>\n",
              "    </tr>\n",
              "  </tbody>\n",
              "</table>\n",
              "</div>"
            ],
            "text/plain": [
              "            pop_est      continent                      name  gdp_md_est  \\\n",
              "iso_a3                                                                     \n",
              "FJI        889953.0        Oceania                      Fiji        5496   \n",
              "TZA      58005463.0         Africa                  Tanzania       63177   \n",
              "ESH        603253.0         Africa                 W. Sahara         907   \n",
              "CAN      37589262.0  North America                    Canada     1736425   \n",
              "USA     328239523.0  North America  United States of America    21433226   \n",
              "\n",
              "                                                 geometry  \n",
              "iso_a3                                                     \n",
              "FJI     MULTIPOLYGON (((180.00000 -16.06713, 180.00000...  \n",
              "TZA     POLYGON ((33.90371 -0.95000, 34.07262 -1.05982...  \n",
              "ESH     POLYGON ((-8.66559 27.65643, -8.66512 27.58948...  \n",
              "CAN     MULTIPOLYGON (((-122.84000 49.00000, -122.9742...  \n",
              "USA     MULTIPOLYGON (((-122.84000 49.00000, -120.0000...  "
            ]
          },
          "execution_count": 53,
          "metadata": {},
          "output_type": "execute_result"
        }
      ],
      "source": [
        "#mapa\n",
        "\n",
        "world = gpd.read_file(gpd.datasets.get_path(\"naturalearth_lowres\"))\n",
        "world = world.set_index(\"iso_a3\")\n",
        "\n",
        "world.head()"
      ]
    },
    {
      "cell_type": "code",
      "execution_count": 54,
      "metadata": {
        "colab": {
          "base_uri": "https://localhost:8080/"
        },
        "id": "0qkBCMSUflw_",
        "outputId": "dd9c73f1-8324-403d-9586-844ffb584bd6"
      },
      "outputs": [
        {
          "data": {
            "text/plain": [
              "array(['Fiji', 'Tanzania', 'W. Sahara', 'Canada',\n",
              "       'United States of America', 'Kazakhstan', 'Uzbekistan',\n",
              "       'Papua New Guinea', 'Indonesia', 'Argentina', 'Chile',\n",
              "       'Dem. Rep. Congo', 'Somalia', 'Kenya', 'Sudan', 'Chad', 'Haiti',\n",
              "       'Dominican Rep.', 'Russia', 'Bahamas', 'Falkland Is.', 'Norway',\n",
              "       'Greenland', 'Fr. S. Antarctic Lands', 'Timor-Leste',\n",
              "       'South Africa', 'Lesotho', 'Mexico', 'Uruguay', 'Brazil',\n",
              "       'Bolivia', 'Peru', 'Colombia', 'Panama', 'Costa Rica', 'Nicaragua',\n",
              "       'Honduras', 'El Salvador', 'Guatemala', 'Belize', 'Venezuela',\n",
              "       'Guyana', 'Suriname', 'France', 'Ecuador', 'Puerto Rico',\n",
              "       'Jamaica', 'Cuba', 'Zimbabwe', 'Botswana', 'Namibia', 'Senegal',\n",
              "       'Mali', 'Mauritania', 'Benin', 'Niger', 'Nigeria', 'Cameroon',\n",
              "       'Togo', 'Ghana', \"Côte d'Ivoire\", 'Guinea', 'Guinea-Bissau',\n",
              "       'Liberia', 'Sierra Leone', 'Burkina Faso', 'Central African Rep.',\n",
              "       'Congo', 'Gabon', 'Eq. Guinea', 'Zambia', 'Malawi', 'Mozambique',\n",
              "       'eSwatini', 'Angola', 'Burundi', 'Israel', 'Lebanon', 'Madagascar',\n",
              "       'Palestine', 'Gambia', 'Tunisia', 'Algeria', 'Jordan',\n",
              "       'United Arab Emirates', 'Qatar', 'Kuwait', 'Iraq', 'Oman',\n",
              "       'Vanuatu', 'Cambodia', 'Thailand', 'Laos', 'Myanmar', 'Vietnam',\n",
              "       'North Korea', 'South Korea', 'Mongolia', 'India', 'Bangladesh',\n",
              "       'Bhutan', 'Nepal', 'Pakistan', 'Afghanistan', 'Tajikistan',\n",
              "       'Kyrgyzstan', 'Turkmenistan', 'Iran', 'Syria', 'Armenia', 'Sweden',\n",
              "       'Belarus', 'Ukraine', 'Poland', 'Austria', 'Hungary', 'Moldova',\n",
              "       'Romania', 'Lithuania', 'Latvia', 'Estonia', 'Germany', 'Bulgaria',\n",
              "       'Greece', 'Turkey', 'Albania', 'Croatia', 'Switzerland',\n",
              "       'Luxembourg', 'Belgium', 'Netherlands', 'Portugal', 'Spain',\n",
              "       'Ireland', 'New Caledonia', 'Solomon Is.', 'New Zealand',\n",
              "       'Australia', 'Sri Lanka', 'China', 'Taiwan', 'Italy', 'Denmark',\n",
              "       'United Kingdom', 'Iceland', 'Azerbaijan', 'Georgia',\n",
              "       'Philippines', 'Malaysia', 'Brunei', 'Slovenia', 'Finland',\n",
              "       'Slovakia', 'Czechia', 'Eritrea', 'Japan', 'Paraguay', 'Yemen',\n",
              "       'Saudi Arabia', 'Antarctica', 'N. Cyprus', 'Cyprus', 'Morocco',\n",
              "       'Egypt', 'Libya', 'Ethiopia', 'Djibouti', 'Somaliland', 'Uganda',\n",
              "       'Rwanda', 'Bosnia and Herz.', 'North Macedonia', 'Serbia',\n",
              "       'Montenegro', 'Kosovo', 'Trinidad and Tobago', 'S. Sudan'],\n",
              "      dtype=object)"
            ]
          },
          "execution_count": 54,
          "metadata": {},
          "output_type": "execute_result"
        }
      ],
      "source": [
        "#graficar el mapa\n",
        "world.name.unique()"
      ]
    },
    {
      "cell_type": "code",
      "execution_count": 55,
      "metadata": {
        "colab": {
          "base_uri": "https://localhost:8080/",
          "height": 476
        },
        "id": "swDogh7dfusl",
        "outputId": "666073c5-77ef-4a17-d146-5d7be00e6f1d"
      },
      "outputs": [
        {
          "name": "stderr",
          "output_type": "stream",
          "text": [
            "findfont: Font family 'Source Sans Pro' not found.\n",
            "findfont: Font family 'Source Sans Pro' not found.\n",
            "findfont: Font family 'Source Sans Pro' not found.\n",
            "findfont: Font family 'Source Sans Pro' not found.\n",
            "findfont: Font family 'Source Sans Pro' not found.\n",
            "findfont: Font family 'Source Sans Pro' not found.\n",
            "findfont: Font family 'Source Sans Pro' not found.\n",
            "findfont: Font family 'Source Sans Pro' not found.\n",
            "findfont: Font family 'Source Sans Pro' not found.\n",
            "findfont: Font family 'Source Sans Pro' not found.\n",
            "findfont: Font family 'Source Sans Pro' not found.\n",
            "findfont: Font family 'Source Sans Pro' not found.\n",
            "findfont: Font family 'Source Sans Pro' not found.\n",
            "findfont: Font family 'Source Sans Pro' not found.\n",
            "findfont: Font family 'Source Sans Pro' not found.\n",
            "findfont: Font family 'Source Sans Pro' not found.\n",
            "findfont: Font family 'Source Sans Pro' not found.\n",
            "findfont: Font family 'Source Sans Pro' not found.\n",
            "findfont: Font family 'Source Sans Pro' not found.\n",
            "findfont: Font family 'Source Sans Pro' not found.\n",
            "findfont: Font family 'Source Sans Pro' not found.\n",
            "findfont: Font family 'Source Sans Pro' not found.\n",
            "findfont: Font family 'Source Sans Pro' not found.\n",
            "findfont: Font family 'Source Sans Pro' not found.\n",
            "findfont: Font family 'Source Sans Pro' not found.\n",
            "findfont: Font family 'Source Sans Pro' not found.\n",
            "findfont: Font family 'Source Sans Pro' not found.\n",
            "findfont: Font family 'Source Sans Pro' not found.\n",
            "findfont: Font family 'Source Sans Pro' not found.\n",
            "findfont: Font family 'Source Sans Pro' not found.\n",
            "findfont: Font family 'Source Sans Pro' not found.\n",
            "findfont: Font family 'Source Sans Pro' not found.\n",
            "findfont: Font family 'Source Sans Pro' not found.\n",
            "findfont: Font family 'Source Sans Pro' not found.\n",
            "findfont: Font family 'Source Sans Pro' not found.\n",
            "findfont: Font family 'Source Sans Pro' not found.\n",
            "findfont: Font family 'Source Sans Pro' not found.\n",
            "findfont: Font family 'Source Sans Pro' not found.\n",
            "findfont: Font family 'Source Sans Pro' not found.\n",
            "findfont: Font family 'Source Sans Pro' not found.\n",
            "findfont: Font family 'Source Sans Pro' not found.\n",
            "findfont: Font family 'Source Sans Pro' not found.\n",
            "findfont: Font family 'Source Sans Pro' not found.\n",
            "findfont: Font family 'Source Sans Pro' not found.\n",
            "findfont: Font family 'Source Sans Pro' not found.\n",
            "findfont: Font family 'Source Sans Pro' not found.\n",
            "findfont: Font family 'Source Sans Pro' not found.\n",
            "findfont: Font family 'Source Sans Pro' not found.\n",
            "findfont: Font family 'Source Sans Pro' not found.\n",
            "findfont: Font family 'Source Sans Pro' not found.\n",
            "findfont: Font family 'Source Sans Pro' not found.\n",
            "findfont: Font family 'Source Sans Pro' not found.\n",
            "findfont: Font family 'Source Sans Pro' not found.\n",
            "findfont: Font family 'Source Sans Pro' not found.\n",
            "findfont: Font family 'Source Sans Pro' not found.\n",
            "findfont: Font family 'Source Sans Pro' not found.\n",
            "findfont: Font family 'Source Sans Pro' not found.\n",
            "findfont: Font family 'Source Sans Pro' not found.\n",
            "findfont: Font family 'Source Sans Pro' not found.\n",
            "findfont: Font family 'Source Sans Pro' not found.\n",
            "findfont: Font family 'Source Sans Pro' not found.\n",
            "findfont: Font family 'Source Sans Pro' not found.\n",
            "findfont: Font family 'Source Sans Pro' not found.\n",
            "findfont: Font family 'Source Sans Pro' not found.\n",
            "findfont: Font family 'Source Sans Pro' not found.\n",
            "findfont: Font family 'Source Sans Pro' not found.\n",
            "findfont: Font family 'Source Sans Pro' not found.\n"
          ]
        },
        {
          "data": {
            "image/png": "[encoded data removed]",
            "text/plain": [
              "<Figure size 720x720 with 1 Axes>"
            ]
          },
          "metadata": {},
          "output_type": "display_data"
        }
      ],
      "source": [
        "fig, gax = plt.subplots(figsize=(10,10))\n",
        "\n",
        "# By only plotting rows in which the continent is 'South America' we only plot SA.\n",
        "world.query(\"name == 'United States of America'\").plot(ax=gax, edgecolor='black',color='white')\n",
        "\n",
        "# By the way, if you haven't read the book 'longitude' by Dava Sobel, you should...\n",
        "gax.set_xlabel('longitude')\n",
        "gax.set_ylabel('latitude')\n",
        "\n",
        "gax.spines['top'].set_visible(False)\n",
        "gax.spines['right'].set_visible(False)"
      ]
    },
    {
      "cell_type": "code",
      "execution_count": 56,
      "metadata": {
        "colab": {
          "base_uri": "https://localhost:8080/",
          "height": 381
        },
        "id": "OR0ydTOvf_Xp",
        "outputId": "9138b4b8-6c2f-4887-bb39-b34e92c6aac4"
      },
      "outputs": [
        {
          "name": "stderr",
          "output_type": "stream",
          "text": [
            "findfont: Font family 'Source Sans Pro' not found.\n",
            "findfont: Font family 'Source Sans Pro' not found.\n",
            "findfont: Font family 'Source Sans Pro' not found.\n",
            "findfont: Font family 'Source Sans Pro' not found.\n",
            "findfont: Font family 'Source Sans Pro' not found.\n",
            "findfont: Font family 'Source Sans Pro' not found.\n",
            "findfont: Font family 'Source Sans Pro' not found.\n",
            "findfont: Font family 'Source Sans Pro' not found.\n",
            "findfont: Font family 'Source Sans Pro' not found.\n",
            "findfont: Font family 'Source Sans Pro' not found.\n",
            "findfont: Font family 'Source Sans Pro' not found.\n",
            "findfont: Font family 'Source Sans Pro' not found.\n",
            "findfont: Font family 'Source Sans Pro' not found.\n",
            "findfont: Font family 'Source Sans Pro' not found.\n",
            "findfont: Font family 'Source Sans Pro' not found.\n",
            "findfont: Font family 'Source Sans Pro' not found.\n",
            "findfont: Font family 'Source Sans Pro' not found.\n",
            "findfont: Font family 'Source Sans Pro' not found.\n",
            "findfont: Font family 'Source Sans Pro' not found.\n",
            "findfont: Font family 'Source Sans Pro' not found.\n",
            "findfont: Font family 'Source Sans Pro' not found.\n",
            "findfont: Font family 'Source Sans Pro' not found.\n",
            "findfont: Font family 'Source Sans Pro' not found.\n",
            "findfont: Font family 'Source Sans Pro' not found.\n",
            "findfont: Font family 'Source Sans Pro' not found.\n",
            "findfont: Font family 'Source Sans Pro' not found.\n",
            "findfont: Font family 'Source Sans Pro' not found.\n",
            "findfont: Font family 'Source Sans Pro' not found.\n",
            "findfont: Font family 'Source Sans Pro' not found.\n",
            "findfont: Font family 'Source Sans Pro' not found.\n",
            "findfont: Font family 'Source Sans Pro' not found.\n",
            "findfont: Font family 'Source Sans Pro' not found.\n",
            "findfont: Font family 'Source Sans Pro' not found.\n",
            "findfont: Font family 'Source Sans Pro' not found.\n",
            "findfont: Font family 'Source Sans Pro' not found.\n",
            "findfont: Font family 'Source Sans Pro' not found.\n",
            "findfont: Font family 'Source Sans Pro' not found.\n",
            "findfont: Font family 'Source Sans Pro' not found.\n",
            "findfont: Font family 'Source Sans Pro' not found.\n",
            "findfont: Font family 'Source Sans Pro' not found.\n",
            "findfont: Font family 'Source Sans Pro' not found.\n",
            "findfont: Font family 'Source Sans Pro' not found.\n",
            "findfont: Font family 'Source Sans Pro' not found.\n",
            "findfont: Font family 'Source Sans Pro' not found.\n",
            "findfont: Font family 'Source Sans Pro' not found.\n",
            "findfont: Font family 'Source Sans Pro' not found.\n",
            "findfont: Font family 'Source Sans Pro' not found.\n",
            "findfont: Font family 'Source Sans Pro' not found.\n",
            "findfont: Font family 'Source Sans Pro' not found.\n",
            "findfont: Font family 'Source Sans Pro' not found.\n",
            "findfont: Font family 'Source Sans Pro' not found.\n",
            "findfont: Font family 'Source Sans Pro' not found.\n",
            "findfont: Font family 'Source Sans Pro' not found.\n",
            "findfont: Font family 'Source Sans Pro' not found.\n",
            "findfont: Font family 'Source Sans Pro' not found.\n",
            "findfont: Font family 'Source Sans Pro' not found.\n",
            "findfont: Font family 'Source Sans Pro' not found.\n",
            "findfont: Font family 'Source Sans Pro' not found.\n",
            "findfont: Font family 'Source Sans Pro' not found.\n",
            "findfont: Font family 'Source Sans Pro' not found.\n",
            "findfont: Font family 'Source Sans Pro' not found.\n",
            "findfont: Font family 'Source Sans Pro' not found.\n",
            "findfont: Font family 'Source Sans Pro' not found.\n",
            "findfont: Font family 'Source Sans Pro' not found.\n",
            "findfont: Font family 'Source Sans Pro' not found.\n",
            "findfont: Font family 'Source Sans Pro' not found.\n",
            "findfont: Font family 'Source Sans Pro' not found.\n",
            "findfont: Font family 'Source Sans Pro' not found.\n",
            "findfont: Font family 'Source Sans Pro' not found.\n",
            "findfont: Font family 'Source Sans Pro' not found.\n"
          ]
        },
        {
          "data": {
            "image/png": "[encoded data removed]",
            "text/plain": [
              "<Figure size 720x720 with 1 Axes>"
            ]
          },
          "metadata": {},
          "output_type": "display_data"
        }
      ],
      "source": [
        "# Step 3: Plot the cities onto the map\n",
        "# We mostly use the code from before --- we still want the country borders plotted --- and we\n",
        "# add a command to plot the cities\n",
        "fig, gax = plt.subplots(figsize=(10,10))\n",
        "\n",
        "# By only plotting rows in which the continent is 'South America' we only plot, well,\n",
        "# South America.\n",
        "world.query(\"name == 'United States of America'\").plot(ax = gax, edgecolor='black', color='white')\n",
        "\n",
        "# This plot the cities. It's the same syntax, but we are plotting from a different GeoDataFrame.\n",
        "# I want the cities as pale red dots.\n",
        "gdf.plot(ax=gax, color='red', alpha = 0.5)\n",
        "\n",
        "gax.set_xlabel('longitude')\n",
        "gax.set_ylabel('latitude')\n",
        "gax.set_title('Target en Estados Unidos')\n",
        "\n",
        "gax.spines['top'].set_visible(False)\n",
        "gax.spines['right'].set_visible(False)\n",
        "\n",
        "plt.show()"
      ]
    },
    {
      "cell_type": "markdown",
      "metadata": {
        "id": "SMkonhsqfgSf"
      },
      "source": [
        "¿qué tal ahora?, tiene mayor sentido verdad, entonces los datos lejanos no eran atípicos, de aquí la importancia de ver los datos con el tipo de gráfica correcta.\n",
        "\n",
        "Ahora sí, implementa K means a los datos de latitud y longitud :) y encuentra donde colocar los almacenes. \n",
        "\n",
        "Nota: si te llama la atención implementar alguna otra visualización con otra librería, lo puedes hacer, no hay restricciones."
      ]
    },
    {
      "cell_type": "code",
      "execution_count": 57,
      "metadata": {
        "id": "IfXq2ieSgD2e"
      },
      "outputs": [],
      "source": [
        "from sklearn.cluster import KMeans\n",
        "\n",
        "kmeans = KMeans(\n",
        "    init=\"random\",\n",
        "    n_clusters=16,\n",
        "    n_init=10,\n",
        "    max_iter=300,\n",
        "    random_state=42\n",
        ")"
      ]
    },
    {
      "cell_type": "code",
      "execution_count": 58,
      "metadata": {},
      "outputs": [
        {
          "data": {
            "text/html": [
              "<div>\n",
              "<style scoped>\n",
              "    .dataframe tbody tr th:only-of-type {\n",
              "        vertical-align: middle;\n",
              "    }\n",
              "\n",
              "    .dataframe tbody tr th {\n",
              "        vertical-align: top;\n",
              "    }\n",
              "\n",
              "    .dataframe thead th {\n",
              "        text-align: right;\n",
              "    }\n",
              "</style>\n",
              "<table border=\"1\" class=\"dataframe\">\n",
              "  <thead>\n",
              "    <tr style=\"text-align: right;\">\n",
              "      <th></th>\n",
              "      <th>name</th>\n",
              "      <th>latitude</th>\n",
              "      <th>longitude</th>\n",
              "      <th>address</th>\n",
              "      <th>phone</th>\n",
              "      <th>website</th>\n",
              "      <th>Coordinates</th>\n",
              "    </tr>\n",
              "  </thead>\n",
              "  <tbody>\n",
              "    <tr>\n",
              "      <th>0</th>\n",
              "      <td>Alabaster</td>\n",
              "      <td>33.224225</td>\n",
              "      <td>-86.804174</td>\n",
              "      <td>250 S Colonial Dr, Alabaster, AL 35007-4657</td>\n",
              "      <td>205-564-2608</td>\n",
              "      <td>https://www.target.com/sl/alabaster/2276</td>\n",
              "      <td>POINT (-86.80417 33.22423)</td>\n",
              "    </tr>\n",
              "    <tr>\n",
              "      <th>1</th>\n",
              "      <td>Bessemer</td>\n",
              "      <td>33.334550</td>\n",
              "      <td>-86.989778</td>\n",
              "      <td>4889 Promenade Pkwy, Bessemer, AL 35022-7305</td>\n",
              "      <td>205-565-3760</td>\n",
              "      <td>https://www.target.com/sl/bessemer/2375</td>\n",
              "      <td>POINT (-86.98978 33.33455)</td>\n",
              "    </tr>\n",
              "    <tr>\n",
              "      <th>2</th>\n",
              "      <td>Daphne</td>\n",
              "      <td>30.602875</td>\n",
              "      <td>-87.895932</td>\n",
              "      <td>1698 US Highway 98, Daphne, AL 36526-4252</td>\n",
              "      <td>251-621-3540</td>\n",
              "      <td>https://www.target.com/sl/daphne/1274</td>\n",
              "      <td>POINT (-87.89593 30.60287)</td>\n",
              "    </tr>\n",
              "    <tr>\n",
              "      <th>3</th>\n",
              "      <td>Decatur</td>\n",
              "      <td>34.560148</td>\n",
              "      <td>-86.971559</td>\n",
              "      <td>1235 Point Mallard Pkwy SE, Decatur, AL 35601-...</td>\n",
              "      <td>256-898-3036</td>\n",
              "      <td>https://www.target.com/sl/decatur/2084</td>\n",
              "      <td>POINT (-86.97156 34.56015)</td>\n",
              "    </tr>\n",
              "    <tr>\n",
              "      <th>4</th>\n",
              "      <td>Dothan</td>\n",
              "      <td>31.266061</td>\n",
              "      <td>-85.446422</td>\n",
              "      <td>4601 Montgomery Hwy, Dothan, AL 36303-1522</td>\n",
              "      <td>334-340-1112</td>\n",
              "      <td>https://www.target.com/sl/dothan/1468</td>\n",
              "      <td>POINT (-85.44642 31.26606)</td>\n",
              "    </tr>\n",
              "    <tr>\n",
              "      <th>...</th>\n",
              "      <td>...</td>\n",
              "      <td>...</td>\n",
              "      <td>...</td>\n",
              "      <td>...</td>\n",
              "      <td>...</td>\n",
              "      <td>...</td>\n",
              "      <td>...</td>\n",
              "    </tr>\n",
              "    <tr>\n",
              "      <th>1834</th>\n",
              "      <td>Waukesha</td>\n",
              "      <td>43.034293</td>\n",
              "      <td>-88.176840</td>\n",
              "      <td>2401 Kossow Rd, Waukesha, WI 53186-2904</td>\n",
              "      <td>262-784-8646</td>\n",
              "      <td>https://www.target.com/sl/waukesha/82</td>\n",
              "      <td>POINT (-88.17684 43.03429)</td>\n",
              "    </tr>\n",
              "    <tr>\n",
              "      <th>1835</th>\n",
              "      <td>Waukesha South</td>\n",
              "      <td>42.989604</td>\n",
              "      <td>-88.259806</td>\n",
              "      <td>1250 W Sunset Dr, Waukesha, WI 53189-8423</td>\n",
              "      <td>262-832-1272</td>\n",
              "      <td>https://www.target.com/sl/waukesha/2546</td>\n",
              "      <td>POINT (-88.25981 42.98960)</td>\n",
              "    </tr>\n",
              "    <tr>\n",
              "      <th>1836</th>\n",
              "      <td>Casper</td>\n",
              "      <td>42.846799</td>\n",
              "      <td>-106.264166</td>\n",
              "      <td>401 SE Wyoming Blvd, Casper, WY 82609-4219</td>\n",
              "      <td>307-265-8214</td>\n",
              "      <td>https://www.target.com/sl/casper/164</td>\n",
              "      <td>POINT (-106.26417 42.84680)</td>\n",
              "    </tr>\n",
              "    <tr>\n",
              "      <th>1837</th>\n",
              "      <td>Cheyenne</td>\n",
              "      <td>41.162019</td>\n",
              "      <td>-104.800048</td>\n",
              "      <td>1708 Dell Range Blvd, Cheyenne, WY 82009-4945</td>\n",
              "      <td>307-637-8888</td>\n",
              "      <td>https://www.target.com/sl/cheyenne/224</td>\n",
              "      <td>POINT (-104.80005 41.16202)</td>\n",
              "    </tr>\n",
              "    <tr>\n",
              "      <th>1838</th>\n",
              "      <td>Jackson Hole</td>\n",
              "      <td>43.469617</td>\n",
              "      <td>-110.789456</td>\n",
              "      <td>510 S Hwy 89, Jackson, WY 83001</td>\n",
              "      <td>307-200-3139</td>\n",
              "      <td>https://www.target.com/sl/jackson-hole/3409</td>\n",
              "      <td>POINT (-110.78946 43.46962)</td>\n",
              "    </tr>\n",
              "  </tbody>\n",
              "</table>\n",
              "<p>1839 rows × 7 columns</p>\n",
              "</div>"
            ],
            "text/plain": [
              "                name   latitude   longitude  \\\n",
              "0          Alabaster  33.224225  -86.804174   \n",
              "1           Bessemer  33.334550  -86.989778   \n",
              "2             Daphne  30.602875  -87.895932   \n",
              "3            Decatur  34.560148  -86.971559   \n",
              "4             Dothan  31.266061  -85.446422   \n",
              "...              ...        ...         ...   \n",
              "1834        Waukesha  43.034293  -88.176840   \n",
              "1835  Waukesha South  42.989604  -88.259806   \n",
              "1836          Casper  42.846799 -106.264166   \n",
              "1837        Cheyenne  41.162019 -104.800048   \n",
              "1838    Jackson Hole  43.469617 -110.789456   \n",
              "\n",
              "                                                address         phone  \\\n",
              "0           250 S Colonial Dr, Alabaster, AL 35007-4657  205-564-2608   \n",
              "1          4889 Promenade Pkwy, Bessemer, AL 35022-7305  205-565-3760   \n",
              "2             1698 US Highway 98, Daphne, AL 36526-4252  251-621-3540   \n",
              "3     1235 Point Mallard Pkwy SE, Decatur, AL 35601-...  256-898-3036   \n",
              "4            4601 Montgomery Hwy, Dothan, AL 36303-1522  334-340-1112   \n",
              "...                                                 ...           ...   \n",
              "1834            2401 Kossow Rd, Waukesha, WI 53186-2904  262-784-8646   \n",
              "1835          1250 W Sunset Dr, Waukesha, WI 53189-8423  262-832-1272   \n",
              "1836         401 SE Wyoming Blvd, Casper, WY 82609-4219  307-265-8214   \n",
              "1837      1708 Dell Range Blvd, Cheyenne, WY 82009-4945  307-637-8888   \n",
              "1838                    510 S Hwy 89, Jackson, WY 83001  307-200-3139   \n",
              "\n",
              "                                          website                  Coordinates  \n",
              "0        https://www.target.com/sl/alabaster/2276   POINT (-86.80417 33.22423)  \n",
              "1         https://www.target.com/sl/bessemer/2375   POINT (-86.98978 33.33455)  \n",
              "2           https://www.target.com/sl/daphne/1274   POINT (-87.89593 30.60287)  \n",
              "3          https://www.target.com/sl/decatur/2084   POINT (-86.97156 34.56015)  \n",
              "4           https://www.target.com/sl/dothan/1468   POINT (-85.44642 31.26606)  \n",
              "...                                           ...                          ...  \n",
              "1834        https://www.target.com/sl/waukesha/82   POINT (-88.17684 43.03429)  \n",
              "1835      https://www.target.com/sl/waukesha/2546   POINT (-88.25981 42.98960)  \n",
              "1836         https://www.target.com/sl/casper/164  POINT (-106.26417 42.84680)  \n",
              "1837       https://www.target.com/sl/cheyenne/224  POINT (-104.80005 41.16202)  \n",
              "1838  https://www.target.com/sl/jackson-hole/3409  POINT (-110.78946 43.46962)  \n",
              "\n",
              "[1839 rows x 7 columns]"
            ]
          },
          "execution_count": 58,
          "metadata": {},
          "output_type": "execute_result"
        }
      ],
      "source": [
        "gdf"
      ]
    },
    {
      "cell_type": "code",
      "execution_count": 59,
      "metadata": {},
      "outputs": [],
      "source": [
        "# do clustering\n",
        "kmeans.fit(latlong)\n",
        "# save results\n",
        "labels = kmeans.labels_"
      ]
    },
    {
      "cell_type": "code",
      "execution_count": 60,
      "metadata": {},
      "outputs": [
        {
          "name": "stdout",
          "output_type": "stream",
          "text": [
            "         name  latitude  longitude  address  phone  website  Coordinates\n",
            "cluster                                                                 \n",
            "0          83        83         83       83     83       83           83\n",
            "1         150       150        150      150    150      150          150\n",
            "2         117       117        117      117    117      117          117\n",
            "3         190       190        190      190    190      190          190\n",
            "4         140       140        140      140    140      140          140\n",
            "5         116       116        116      116    116      116          116\n",
            "6          59        59         59       59     59       59           59\n",
            "7         195       195        195      195    195      195          195\n",
            "8         216       216        216      216    216      216          216\n",
            "9           8         8          8        8      8        8            8\n",
            "10         88        88         88       88     88       88           88\n",
            "11        204       204        204      204    204      204          204\n",
            "12         72        72         72       72     72       72           72\n",
            "13         75        75         75       75     75       75           75\n",
            "14        123       123        123      123    123      123          123\n",
            "15          3         3          3        3      3        3            3\n"
          ]
        }
      ],
      "source": [
        "\n",
        "# send back into dataframe and display it\n",
        "gdf['cluster'] = labels\n",
        "# display the number of mamber each clustering\n",
        "_clusters = gdf.groupby('cluster').count()\n",
        "print(_clusters)"
      ]
    },
    {
      "cell_type": "code",
      "execution_count": 63,
      "metadata": {},
      "outputs": [
        {
          "name": "stderr",
          "output_type": "stream",
          "text": [
            "findfont: Font family 'Source Sans Pro' not found.\n",
            "findfont: Font family 'Source Sans Pro' not found.\n",
            "findfont: Font family 'Source Sans Pro' not found.\n",
            "findfont: Font family 'Source Sans Pro' not found.\n",
            "findfont: Font family 'Source Sans Pro' not found.\n",
            "findfont: Font family 'Source Sans Pro' not found.\n",
            "findfont: Font family 'Source Sans Pro' not found.\n",
            "findfont: Font family 'Source Sans Pro' not found.\n",
            "findfont: Font family 'Source Sans Pro' not found.\n",
            "findfont: Font family 'Source Sans Pro' not found.\n",
            "findfont: Font family 'Source Sans Pro' not found.\n",
            "findfont: Font family 'Source Sans Pro' not found.\n",
            "findfont: Font family 'Source Sans Pro' not found.\n",
            "findfont: Font family 'Source Sans Pro' not found.\n",
            "findfont: Font family 'Source Sans Pro' not found.\n",
            "findfont: Font family 'Source Sans Pro' not found.\n",
            "findfont: Font family 'Source Sans Pro' not found.\n",
            "findfont: Font family 'Source Sans Pro' not found.\n",
            "findfont: Font family 'Source Sans Pro' not found.\n",
            "findfont: Font family 'Source Sans Pro' not found.\n",
            "findfont: Font family 'Source Sans Pro' not found.\n",
            "findfont: Font family 'Source Sans Pro' not found.\n",
            "findfont: Font family 'Source Sans Pro' not found.\n",
            "findfont: Font family 'Source Sans Pro' not found.\n",
            "findfont: Font family 'Source Sans Pro' not found.\n",
            "findfont: Font family 'Source Sans Pro' not found.\n",
            "findfont: Font family 'Source Sans Pro' not found.\n",
            "findfont: Font family 'Source Sans Pro' not found.\n",
            "findfont: Font family 'Source Sans Pro' not found.\n",
            "findfont: Font family 'Source Sans Pro' not found.\n",
            "findfont: Font family 'Source Sans Pro' not found.\n",
            "findfont: Font family 'Source Sans Pro' not found.\n",
            "findfont: Font family 'Source Sans Pro' not found.\n",
            "findfont: Font family 'Source Sans Pro' not found.\n",
            "findfont: Font family 'Source Sans Pro' not found.\n",
            "findfont: Font family 'Source Sans Pro' not found.\n",
            "findfont: Font family 'Source Sans Pro' not found.\n",
            "findfont: Font family 'Source Sans Pro' not found.\n",
            "findfont: Font family 'Source Sans Pro' not found.\n",
            "findfont: Font family 'Source Sans Pro' not found.\n",
            "findfont: Font family 'Source Sans Pro' not found.\n",
            "findfont: Font family 'Source Sans Pro' not found.\n",
            "findfont: Font family 'Source Sans Pro' not found.\n",
            "findfont: Font family 'Source Sans Pro' not found.\n",
            "findfont: Font family 'Source Sans Pro' not found.\n",
            "findfont: Font family 'Source Sans Pro' not found.\n",
            "findfont: Font family 'Source Sans Pro' not found.\n",
            "findfont: Font family 'Source Sans Pro' not found.\n",
            "findfont: Font family 'Source Sans Pro' not found.\n",
            "findfont: Font family 'Source Sans Pro' not found.\n",
            "findfont: Font family 'Source Sans Pro' not found.\n",
            "findfont: Font family 'Source Sans Pro' not found.\n",
            "findfont: Font family 'Source Sans Pro' not found.\n",
            "findfont: Font family 'Source Sans Pro' not found.\n",
            "findfont: Font family 'Source Sans Pro' not found.\n",
            "findfont: Font family 'Source Sans Pro' not found.\n",
            "findfont: Font family 'Source Sans Pro' not found.\n",
            "findfont: Font family 'Source Sans Pro' not found.\n",
            "findfont: Font family 'Source Sans Pro' not found.\n",
            "findfont: Font family 'Source Sans Pro' not found.\n",
            "findfont: Font family 'Source Sans Pro' not found.\n",
            "findfont: Font family 'Source Sans Pro' not found.\n",
            "findfont: Font family 'Source Sans Pro' not found.\n",
            "findfont: Font family 'Source Sans Pro' not found.\n",
            "findfont: Font family 'Source Sans Pro' not found.\n",
            "findfont: Font family 'Source Sans Pro' not found.\n",
            "findfont: Font family 'Source Sans Pro' not found.\n",
            "findfont: Font family 'Source Sans Pro' not found.\n",
            "findfont: Font family 'Source Sans Pro' not found.\n",
            "findfont: Font family 'Source Sans Pro' not found.\n"
          ]
        },
        {
          "data": {
            "image/png": "[encoded data removed]",
            "text/plain": [
              "<Figure size 720x720 with 1 Axes>"
            ]
          },
          "metadata": {},
          "output_type": "display_data"
        }
      ],
      "source": [
        "# Step 3: Plot the cities onto the map\n",
        "# We mostly use the code from before --- we still want the country borders plotted --- and we\n",
        "# add a command to plot the cities\n",
        "fig, gax = plt.subplots(figsize=(10,10))\n",
        "\n",
        "# By only plotting rows in which the continent is 'South America' we only plot, well,\n",
        "# South America.\n",
        "world.query(\"name == 'United States of America'\").plot(ax = gax, edgecolor='black', color='white')\n",
        "\n",
        "# This plot the cities. It's the same syntax, but we are plotting from a different GeoDataFrame.\n",
        "# I want the cities as pale red dots.\n",
        "gdf.plot(ax=gax, column=\"cluster\", alpha = 0.5)\n",
        "\n",
        "gax.set_xlabel('longitude')\n",
        "gax.set_ylabel('latitude')\n",
        "gax.set_title('Target en Estados Unidos')\n",
        "\n",
        "gax.spines['top'].set_visible(False)\n",
        "gax.spines['right'].set_visible(False)\n",
        "\n",
        "plt.show()"
      ]
    },
    {
      "cell_type": "markdown",
      "metadata": {},
      "source": [
        "Preguntas:\n",
        "Gracias a la técnica K-means, podemos realizar un clustering de grupos similares, esto nos ayudará significativamente para asignar conjuntos que un centro de distribución pudiera abastecer. Las librerías que podemos usar para desarrollar las gráficas necesarias serian matplotlib, geopandas, qeds, etc.\n",
        "K-means y los grupos que este consigue es lo más importante del ejercicio, sin embargo, al enseñarlo gráficamente nos ayuda a compartir visualmente al explicar nuestro plan de ubicación de centros de distribución.\n",
        "\n"
      ]
    }
  ],
  "metadata": {
    "colab": {
      "provenance": []
    },
    "kernelspec": {
      "display_name": "Python 3.10.5 64-bit",
      "language": "python",
      "name": "python3"
    },
    "language_info": {
      "codemirror_mode": {
        "name": "ipython",
        "version": 3
      },
      "file_extension": ".py",
      "mimetype": "text/x-python",
      "name": "python",
      "nbconvert_exporter": "python",
      "pygments_lexer": "ipython3",
      "version": "3.10.5"
    },
    "vscode": {
      "interpreter": {
        "hash": "92ef8d22b629b1700fd535cf7177d6b2181f29ca6fc262a3063509d04aaf2a38"
      }
    }
  },
  "nbformat": 4,
  "nbformat_minor": 0
}
