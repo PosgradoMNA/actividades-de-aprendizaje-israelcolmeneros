{
  "nbformat": 4,
  "nbformat_minor": 0,
  "metadata": {
    "colab": {
      "provenance": [],
      "authorship_tag": "ABX9TyODbJuMcYsCf3OSZ9lF6i5r",
      "include_colab_link": true
    },
    "kernelspec": {
      "name": "python3",
      "display_name": "Python 3"
    },
    "language_info": {
      "name": "python"
    }
  },
  "cells": [
    {
      "cell_type": "markdown",
      "metadata": {
        "id": "view-in-github",
        "colab_type": "text"
      },
      "source": [
        "<a href=\"https://colab.research.google.com/github/PosgradoMNA/actividades-de-aprendizaje-israelcolmeneros/blob/main/actividades_ibm_modulo_1_3.ipynb\" target=\"_parent\"><img src=\"https://colab.research.google.com/assets/colab-badge.svg\" alt=\"Open In Colab\"/></a>"
      ]
    },
    {
      "cell_type": "markdown",
      "source": [
        "## **Python for Data Science**"
      ],
      "metadata": {
        "id": "maAIrSlfPF0R"
      }
    },
    {
      "cell_type": "markdown",
      "source": [
        "Module 1 - Python Basics "
      ],
      "metadata": {
        "id": "rNUgzY22Pg0K"
      }
    },
    {
      "cell_type": "code",
      "source": [
        "print(\"Hello\\nWorld!\")"
      ],
      "metadata": {
        "colab": {
          "base_uri": "https://localhost:8080/"
        },
        "id": "1OHyrLrAPiS1",
        "outputId": "04e3b847-69b8-470e-97b1-d778b64431f9"
      },
      "execution_count": null,
      "outputs": [
        {
          "output_type": "stream",
          "name": "stdout",
          "text": [
            "Hello\n",
            "World!\n"
          ]
        }
      ]
    },
    {
      "cell_type": "markdown",
      "source": [
        "Type- como se representa los tipos de data.\n",
        "(int, float, str,Boolean)\n",
        "Se puede saber que tipo de data es con type().\n",
        "Se puede convertir de un tipo a otro, de int->float no pasa nada, pero al convertir un float-> se puede perder detalle.\n",
        "Boolean puede ser True-False.\n",
        "Bool=Boolean,\n",
        "1=True, 0=False.\n"
      ],
      "metadata": {
        "id": "njSDW38ySeDt"
      }
    },
    {
      "cell_type": "markdown",
      "source": [
        "Expressions- un tipo de operacion que python hace.\n",
        "Variables- asignar valores.\n",
        "x=asignar un valor.\n",
        "x:asginar un nuevo valor.\n"
      ],
      "metadata": {
        "id": "UekEP-0-dem1"
      }
    },
    {
      "cell_type": "markdown",
      "source": [
        "String-Secuencia de caracteres.\n",
        "len() usar para usar el tamaño\n",
        "se pueden concatenar\n",
        "escape sequences- son combinaciones que escapan de una string para realizar una accion, como \\n que genera un espacio en el string.\n",
        "Method- transforma una string, por ejemplo upper() hace que se haga en mayus."
      ],
      "metadata": {
        "id": "QP2_3y50v4lb"
      }
    },
    {
      "cell_type": "code",
      "source": [
        "#Notas quiz\n",
        "name=\"Lizz\"\n",
        "print(name[0:2])"
      ],
      "metadata": {
        "colab": {
          "base_uri": "https://localhost:8080/"
        },
        "id": "Od-WYgFal-wt",
        "outputId": "1482350d-3e93-49a3-93d1-509d12c902e6"
      },
      "execution_count": 1,
      "outputs": [
        {
          "output_type": "stream",
          "name": "stdout",
          "text": [
            "Li\n"
          ]
        }
      ]
    },
    {
      "cell_type": "markdown",
      "source": [
        "Module 2 - Python Data Structures"
      ],
      "metadata": {
        "id": "X1Cscx8lys4J"
      }
    },
    {
      "cell_type": "markdown",
      "source": [
        "Tuples - secuencias ordenadas, conjunto de (str, int, float).\n",
        "Tienen funciones similares a una str.\n",
        "Tuples no se pueden modificar como las variables (immutable). Si queremos cambiar algo dentro del tuple, cambiara el tuple2.\n",
        "-Nesting, tuple dentro de un tuple.\n",
        "\n",
        "\n",
        "\n"
      ],
      "metadata": {
        "id": "1xmet6nmy1MC"
      }
    },
    {
      "cell_type": "code",
      "source": [
        "#Crear una Tuple\n",
        "A = (0,1,2,3)\n",
        "print(A)\n"
      ],
      "metadata": {
        "colab": {
          "base_uri": "https://localhost:8080/"
        },
        "id": "kbB0uYfT1iie",
        "outputId": "e6fc10de-6a71-4f49-a4c2-48ce0f8a555f"
      },
      "execution_count": 2,
      "outputs": [
        {
          "output_type": "stream",
          "name": "stdout",
          "text": [
            "(0, 1, 2, 3)\n"
          ]
        }
      ]
    },
    {
      "cell_type": "markdown",
      "source": [
        "List - Muy similar a tuple, pero estas si son mutable, se pueden cambiar como una variable.\n",
        "Nesting.\n",
        "\n"
      ],
      "metadata": {
        "id": "eLsK-gnv0I4J"
      }
    },
    {
      "cell_type": "code",
      "source": [
        "#Crear una List\n",
        "B=[\"a\",\"b\",\"c\"]\n",
        "print(B)"
      ],
      "metadata": {
        "colab": {
          "base_uri": "https://localhost:8080/"
        },
        "id": "c5MV4WAw1ywN",
        "outputId": "db085d32-3ba6-463d-986b-411226c23c24"
      },
      "execution_count": 3,
      "outputs": [
        {
          "output_type": "stream",
          "name": "stdout",
          "text": [
            "['a', 'b', 'c']\n"
          ]
        }
      ]
    },
    {
      "cell_type": "code",
      "source": [
        "#Ir al ultimo elemento de un tuple\n",
        "A=(0,1,2,3)\n",
        "print(A[-1])\n",
        "print(A[3])\n"
      ],
      "metadata": {
        "colab": {
          "base_uri": "https://localhost:8080/"
        },
        "id": "5PR3HiCe1-e3",
        "outputId": "61868203-c7b1-418f-974b-21d5f074a2c1"
      },
      "execution_count": 8,
      "outputs": [
        {
          "output_type": "stream",
          "name": "stdout",
          "text": [
            "3\n",
            "3\n"
          ]
        }
      ]
    },
    {
      "cell_type": "markdown",
      "source": [
        "Sets-son un tipo de colecciones, no recuerdan el orden de los objetos,solo tienen elementos unicos. para usarlos necesitas {}.\n",
        "Si usas elementos repetidos al crearlo, el set eliminara los repetios en el output.\n",
        ".remove() metodo para eliminar.\n",
        "in para saber si un elemnto esta en el set.\n",
        "Se puede crear un set de la union de otros dos sets con &.\n",
        "Se puede crear un set total sumando dos con el metodo union().\n"
      ],
      "metadata": {
        "id": "YRmCQZby4nnj"
      }
    },
    {
      "cell_type": "code",
      "source": [
        "S={'A','B','C'}\n",
        "S.add(\"D\")\n",
        "print(S)\n",
        "# Sample Sets\n",
        "\n",
        "album_set1 = set([\"Thriller\", 'AC/DC', 'Back in Black'])\n",
        "album_set2 = set([ \"AC/DC\", \"Back in Black\", \"The Dark Side of the Moon\"])\n",
        "# Find the difference in set1 but not set2\n",
        "\n",
        "print(album_set1.difference(album_set2))\n",
        "# Check if subset\n",
        "\n",
        "set({\"Back in Black\", \"AC/DC\"}).issubset(album_set1) "
      ],
      "metadata": {
        "colab": {
          "base_uri": "https://localhost:8080/"
        },
        "id": "r3jw7AFZ6oOR",
        "outputId": "88897b7f-13af-42bb-a465-b872c068a250"
      },
      "execution_count": 11,
      "outputs": [
        {
          "output_type": "stream",
          "name": "stdout",
          "text": [
            "{'A', 'D', 'B', 'C'}\n",
            "{'Thriller'}\n"
          ]
        },
        {
          "output_type": "execute_result",
          "data": {
            "text/plain": [
              "True"
            ]
          },
          "metadata": {},
          "execution_count": 11
        }
      ]
    },
    {
      "cell_type": "markdown",
      "source": [
        "Dictionaries- otra coleccion de elementos, keys & values es la principal diferencia de una lista, {key1:value1,keyX:ValueX}.\n",
        "Los podemos cosiderar como catalogos de informacion.\n"
      ],
      "metadata": {
        "id": "kNiHNEbm_7Gw"
      }
    },
    {
      "cell_type": "code",
      "source": [
        "# Create the dictionary\n",
        "\n",
        "Dict = {\"key1\": 1, \"key2\": \"2\", \"key3\": [3, 3, 3], \"key4\": (4, 4, 4), ('key5'): 5, (0, 1): 6}\n",
        "Dict"
      ],
      "metadata": {
        "colab": {
          "base_uri": "https://localhost:8080/"
        },
        "id": "pxnMMs76AzsM",
        "outputId": "2ed5e201-38f5-425f-aa24-6d4de080fd1f"
      },
      "execution_count": 12,
      "outputs": [
        {
          "output_type": "execute_result",
          "data": {
            "text/plain": [
              "{'key1': 1,\n",
              " 'key2': '2',\n",
              " 'key3': [3, 3, 3],\n",
              " 'key4': (4, 4, 4),\n",
              " 'key5': 5,\n",
              " (0, 1): 6}"
            ]
          },
          "metadata": {},
          "execution_count": 12
        }
      ]
    },
    {
      "cell_type": "markdown",
      "source": [
        "Module 3 - Python Programming Fundamentals"
      ],
      "metadata": {
        "id": "0YpQu2DIBq9L"
      }
    },
    {
      "cell_type": "markdown",
      "source": [
        "Comparison- podemos usarlos para probar con true o false, por ejemplo ==,>,<,!=,etc.\n",
        "If Statement, Else statement,elif (else if).\n",
        "Logical Operators, or, and,\n"
      ],
      "metadata": {
        "id": "GNNtvMKYCOTD"
      }
    },
    {
      "cell_type": "code",
      "source": [
        "x = \"a\"\n",
        "if(x=='a'):\n",
        "    print(\"this is a\")\n",
        "else:\n",
        "    print(\"this is  not a\")"
      ],
      "metadata": {
        "id": "tMn8KhOtE5aC",
        "outputId": "cc7f1a59-5453-4f0f-d736-66330a3ee4fe",
        "colab": {
          "base_uri": "https://localhost:8080/"
        }
      },
      "execution_count": 15,
      "outputs": [
        {
          "output_type": "stream",
          "name": "stdout",
          "text": [
            "this is a\n"
          ]
        }
      ]
    },
    {
      "cell_type": "code",
      "source": [
        "# Elif statment example\n",
        "\n",
        "age = 18\n",
        "\n",
        "if age > 18:\n",
        "    print(\"you can enter\" )\n",
        "elif age == 18:\n",
        "    print(\"go see Pink Floyd\")\n",
        "else:\n",
        "    print(\"go see Meat Loaf\" )\n",
        "    \n",
        "print(\"move on\")"
      ],
      "metadata": {
        "id": "rLJtWG9AFSaQ",
        "outputId": "9426bf32-09a6-4f98-908f-84b4c1b75982",
        "colab": {
          "base_uri": "https://localhost:8080/"
        }
      },
      "execution_count": 16,
      "outputs": [
        {
          "output_type": "stream",
          "name": "stdout",
          "text": [
            "go see Pink Floyd\n",
            "move on\n"
          ]
        }
      ]
    },
    {
      "cell_type": "code",
      "source": [
        "# Condition statement example\n",
        "\n",
        "album_year = 1980\n",
        "\n",
        "if(album_year > 1979) and (album_year < 1990):\n",
        "    print (\"Album year was in between 1980 and 1989\")\n",
        "    \n",
        "print(\"\")\n",
        "print(\"Do Stuff..\")"
      ],
      "metadata": {
        "id": "LtnIU4SYFd0B",
        "outputId": "6c396c1d-bbcb-4faf-accc-5849e94c6232",
        "colab": {
          "base_uri": "https://localhost:8080/"
        }
      },
      "execution_count": 17,
      "outputs": [
        {
          "output_type": "stream",
          "name": "stdout",
          "text": [
            "Album year was in between 1980 and 1989\n",
            "\n",
            "Do Stuff..\n"
          ]
        }
      ]
    },
    {
      "cell_type": "markdown",
      "source": [
        "Loops, for loops, while loops.\n",
        "range(3)=1,2"
      ],
      "metadata": {
        "id": "3iGRFXqNIAgz"
      }
    },
    {
      "cell_type": "code",
      "source": [
        "print(range(10,14))"
      ],
      "metadata": {
        "id": "PCbLbufpINkl",
        "outputId": "5a5269c1-22b4-403c-b1d7-693552bff3ff",
        "colab": {
          "base_uri": "https://localhost:8080/"
        }
      },
      "execution_count": 19,
      "outputs": [
        {
          "output_type": "stream",
          "name": "stdout",
          "text": [
            "range(10, 14)\n"
          ]
        }
      ]
    },
    {
      "cell_type": "markdown",
      "source": [
        " la diferencia de for y while, es que for seguira un loop dependiendo de un rango predefinido, un while el loop continua hasta que una condicion se cumpla.\n",
        " "
      ],
      "metadata": {
        "id": "rojAzlwmIY19"
      }
    },
    {
      "cell_type": "code",
      "source": [
        "# Use for loop to change the elements in list\n",
        "\n",
        "squares = ['red', 'yellow', 'green', 'purple', 'blue']\n",
        "\n",
        "for i in range(0, 5):\n",
        "    print(\"Before square \", i, 'is',  squares[i])\n",
        "    squares[i] = 'white'\n",
        "    print(\"After square \", i, 'is',  squares[i])"
      ],
      "metadata": {
        "id": "wkwwTmv6Lt-i",
        "outputId": "89925338-7641-491a-c08c-54f2dd3cb956",
        "colab": {
          "base_uri": "https://localhost:8080/"
        }
      },
      "execution_count": 20,
      "outputs": [
        {
          "output_type": "stream",
          "name": "stdout",
          "text": [
            "Before square  0 is red\n",
            "After square  0 is white\n",
            "Before square  1 is yellow\n",
            "After square  1 is white\n",
            "Before square  2 is green\n",
            "After square  2 is white\n",
            "Before square  3 is purple\n",
            "After square  3 is white\n",
            "Before square  4 is blue\n",
            "After square  4 is white\n"
          ]
        }
      ]
    },
    {
      "cell_type": "markdown",
      "source": [
        "Functions, hay pre hechas en python, funcionan tomando input, pasan por algunos pasos y termina un output diferente.\n",
        "len() por ejemplo para determinar el tamaño de una coleccion.\n",
        "sort,sorted.\n",
        "Se puede usa def nombre(parametro), , return x, para hacer una funcion.\n",
        "4.47."
      ],
      "metadata": {
        "id": "F20QoY2QMBQq"
      }
    }
  ]
}