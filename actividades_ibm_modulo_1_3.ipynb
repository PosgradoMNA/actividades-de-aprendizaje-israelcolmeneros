{
  "nbformat": 4,
  "nbformat_minor": 0,
  "metadata": {
    "colab": {
      "provenance": [],
      "authorship_tag": "ABX9TyMIu9L1rQl4O995GBeaLrQj",
      "include_colab_link": true
    },
    "kernelspec": {
      "name": "python3",
      "display_name": "Python 3"
    },
    "language_info": {
      "name": "python"
    }
  },
  "cells": [
    {
      "cell_type": "markdown",
      "metadata": {
        "id": "view-in-github",
        "colab_type": "text"
      },
      "source": [
        "<a href=\"https://colab.research.google.com/github/PosgradoMNA/actividades-de-aprendizaje-israelcolmeneros/blob/main/actividades_ibm_modulo_1_3.ipynb\" target=\"_parent\"><img src=\"https://colab.research.google.com/assets/colab-badge.svg\" alt=\"Open In Colab\"/></a>"
      ]
    },
    {
      "cell_type": "markdown",
      "source": [
        "## **Python for Data Science**"
      ],
      "metadata": {
        "id": "maAIrSlfPF0R"
      }
    },
    {
      "cell_type": "markdown",
      "source": [
        "Module 1 - Python Basics "
      ],
      "metadata": {
        "id": "rNUgzY22Pg0K"
      }
    },
    {
      "cell_type": "code",
      "source": [
        "print(\"Hello\\nWorld!\")"
      ],
      "metadata": {
        "colab": {
          "base_uri": "https://localhost:8080/"
        },
        "id": "1OHyrLrAPiS1",
        "outputId": "04e3b847-69b8-470e-97b1-d778b64431f9"
      },
      "execution_count": null,
      "outputs": [
        {
          "output_type": "stream",
          "name": "stdout",
          "text": [
            "Hello\n",
            "World!\n"
          ]
        }
      ]
    },
    {
      "cell_type": "markdown",
      "source": [
        "prueba"
      ],
      "metadata": {
        "id": "fdJV4Wx3PxQz"
      }
    }
  ]
}