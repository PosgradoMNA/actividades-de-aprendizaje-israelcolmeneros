{
  "nbformat": 4,
  "nbformat_minor": 0,
  "metadata": {
    "colab": {
      "provenance": [],
      "authorship_tag": "ABX9TyNCJorOa8cxE+WuMbRCmGmB",
      "include_colab_link": true
    },
    "kernelspec": {
      "name": "python3",
      "display_name": "Python 3"
    },
    "language_info": {
      "name": "python"
    }
  },
  "cells": [
    {
      "cell_type": "markdown",
      "metadata": {
        "id": "view-in-github",
        "colab_type": "text"
      },
      "source": [
        "<a href=\"https://colab.research.google.com/github/PosgradoMNA/actividades-de-aprendizaje-israelcolmeneros/blob/main/actividades_ibm_modulo_1_3.ipynb\" target=\"_parent\"><img src=\"https://colab.research.google.com/assets/colab-badge.svg\" alt=\"Open In Colab\"/></a>"
      ]
    },
    {
      "cell_type": "markdown",
      "source": [
        "## **Python for Data Science**"
      ],
      "metadata": {
        "id": "maAIrSlfPF0R"
      }
    },
    {
      "cell_type": "markdown",
      "source": [
        "Module 1 - Python Basics "
      ],
      "metadata": {
        "id": "rNUgzY22Pg0K"
      }
    },
    {
      "cell_type": "code",
      "source": [
        "print(\"Hello\\nWorld!\")"
      ],
      "metadata": {
        "colab": {
          "base_uri": "https://localhost:8080/"
        },
        "id": "1OHyrLrAPiS1",
        "outputId": "04e3b847-69b8-470e-97b1-d778b64431f9"
      },
      "execution_count": null,
      "outputs": [
        {
          "output_type": "stream",
          "name": "stdout",
          "text": [
            "Hello\n",
            "World!\n"
          ]
        }
      ]
    },
    {
      "cell_type": "markdown",
      "source": [
        "Type- como se representa los tipos de data.\n",
        "(int, float, str,Boolean)\n",
        "Se puede saber que tipo de data es con type().\n",
        "Se puede convertir de un tipo a otro, de int->float no pasa nada, pero al convertir un float-> se puede perder detalle.\n",
        "Boolean puede ser True-False.\n",
        "Bool=Boolean,\n",
        "1=True, 0=False.\n"
      ],
      "metadata": {
        "id": "njSDW38ySeDt"
      }
    },
    {
      "cell_type": "markdown",
      "source": [
        "Expressions- un tipo de operacion que python hace.\n",
        "Variables- asignar valores.\n",
        "x=asignar un valor.\n",
        "x:asginar un nuevo valor.\n"
      ],
      "metadata": {
        "id": "UekEP-0-dem1"
      }
    },
    {
      "cell_type": "markdown",
      "source": [
        "String-Secuencia de caracteres.\n",
        "len() usar para usar el tamaño\n",
        "se pueden concatenar\n",
        "escape sequences- son combinaciones que escapan de una string para realizar una accion, como \\n que genera un espacio en el string.\n",
        "Method- transforma una string, por ejemplo upper() hace que se haga en mayus."
      ],
      "metadata": {
        "id": "QP2_3y50v4lb"
      }
    },
    {
      "cell_type": "code",
      "source": [
        "#Notas quiz\n",
        "name=\"Lizz\"\n",
        "print(name[0:2])"
      ],
      "metadata": {
        "colab": {
          "base_uri": "https://localhost:8080/"
        },
        "id": "Od-WYgFal-wt",
        "outputId": "1482350d-3e93-49a3-93d1-509d12c902e6"
      },
      "execution_count": 1,
      "outputs": [
        {
          "output_type": "stream",
          "name": "stdout",
          "text": [
            "Li\n"
          ]
        }
      ]
    }
  ]
}