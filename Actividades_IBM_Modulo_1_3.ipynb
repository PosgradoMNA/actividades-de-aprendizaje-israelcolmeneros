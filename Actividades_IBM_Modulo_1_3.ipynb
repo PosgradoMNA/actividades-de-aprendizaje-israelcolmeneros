{
  "nbformat": 4,
  "nbformat_minor": 0,
  "metadata": {
    "colab": {
      "provenance": [],
      "authorship_tag": "ABX9TyNPeNRU3aYOsMCx1Muw0GCA",
      "include_colab_link": true
    },
    "kernelspec": {
      "name": "python3",
      "display_name": "Python 3"
    },
    "language_info": {
      "name": "python"
    }
  },
  "cells": [
    {
      "cell_type": "markdown",
      "metadata": {
        "id": "view-in-github",
        "colab_type": "text"
      },
      "source": [
        "<a href=\"https://colab.research.google.com/github/PosgradoMNA/actividades-de-aprendizaje-israelcolmeneros/blob/main/Actividades_IBM_Modulo_1_3.ipynb\" target=\"_parent\"><img src=\"https://colab.research.google.com/assets/colab-badge.svg\" alt=\"Open In Colab\"/></a>"
      ]
    },
    {
      "cell_type": "markdown",
      "source": [
        "## **Python for Data Science**"
      ],
      "metadata": {
        "id": "maAIrSlfPF0R"
      }
    },
    {
      "cell_type": "markdown",
      "source": [
        "Module 1 - Python Basics "
      ],
      "metadata": {
        "id": "rNUgzY22Pg0K"
      }
    },
    {
      "cell_type": "code",
      "source": [
        "print(\"Hello\\nWorld!\")"
      ],
      "metadata": {
        "id": "1OHyrLrAPiS1"
      },
      "execution_count": null,
      "outputs": []
    }
  ]
}