{
  "nbformat": 4,
  "nbformat_minor": 0,
  "metadata": {
    "colab": {
      "provenance": [],
      "authorship_tag": "ABX9TyN5XGpNN20BqGRHMbkg4NRY",
      "include_colab_link": true
    },
    "kernelspec": {
      "name": "python3",
      "display_name": "Python 3"
    },
    "language_info": {
      "name": "python"
    }
  },
  "cells": [
    {
      "cell_type": "markdown",
      "metadata": {
        "id": "view-in-github",
        "colab_type": "text"
      },
      "source": [
        "<a href=\"https://colab.research.google.com/github/PosgradoMNA/actividades-de-aprendizaje-israelcolmeneros/blob/main/Data_Analysis_with_Python_Mod_2_A01361766.ipynb\" target=\"_parent\"><img src=\"https://colab.research.google.com/assets/colab-badge.svg\" alt=\"Open In Colab\"/></a>"
      ]
    },
    {
      "cell_type": "markdown",
      "source": [
        "##**Modulo 2: Data Wrangling** "
      ],
      "metadata": {
        "id": "eEAPcFIeol1N"
      }
    },
    {
      "cell_type": "markdown",
      "source": [
        "Pre-Processing Data in Python 2:09\n",
        "\n",
        "Missing values, data formatting, data normalization, data binning, turning categorical values to numeric.\n",
        "\n"
      ],
      "metadata": {
        "id": "WPUznoBhoq_7"
      }
    },
    {
      "cell_type": "markdown",
      "source": [
        "Dealing with missing values in Python\n",
        "\n",
        "Missing value= \"NaN\", ?, \" \"\n",
        "\n",
        "Preguntar a la fuente si se puede llenar?\n",
        "\n",
        "Drop the variable, drop the data entry\n",
        "\n",
        "Es mejor remplazar el missing value que eliminarlo, pero tampoco es optimo porque estas modificando la df.\n",
        "\n",
        "Se puede usar la meadia y mediana para variables continuas y para las categoricas moda. (sustituir data faltante)\n",
        "\n",
        "Dataframes.dropna()\n",
        "\n",
        "Dataframe.replace(missing_value, new_value)\n",
        "\n",
        "en algunos casos es mejor deja los valores faltantes.\n",
        "\n"
      ],
      "metadata": {
        "id": "u82y551qqZOt"
      }
    },
    {
      "cell_type": "markdown",
      "source": [
        "Data Formatting in Python 3:23\n",
        "\n",
        "dataframe.dtype()  #saber que tipo de data tenemos\n",
        "\n",
        "dataframe.astype() #convertir el tipo de data\n",
        "\n"
      ],
      "metadata": {
        "id": "dDneIc08rllH"
      }
    },
    {
      "cell_type": "markdown",
      "source": [
        "Data Normalization in Python 3:34\n",
        "\n",
        "Pasar todas las columnas a rangos similares manteniendo la misma distribucion.(modelos como la regresion lineal pueden ser afectadas cuando no se normalizan los datos.)\n",
        "\n",
        "Simple Feature scaling, Min-Max, Z-score\n",
        "\n"
      ],
      "metadata": {
        "id": "fRT_S-CRseZd"
      }
    },
    {
      "cell_type": "markdown",
      "source": [
        "Binning in Python 1:53\n",
        "\n",
        "Grouping of values into \"bins\"\n",
        "\n",
        "Pasar columnas numericas a categoricas, se usa porque algunas veces mejora el accuracy de una prediccion.\n",
        "\n",
        "Precio con variables continuas (2151,4564,1,651,16) puede pasarse a categorias (low, middle, high)\n",
        "\n"
      ],
      "metadata": {
        "id": "0vmo1NGrvTr1"
      }
    },
    {
      "cell_type": "markdown",
      "source": [
        "Turning categorical variables into quantitative variables in Python 2:00\n",
        "\n",
        "Lo contrario a Binning.\n",
        "\n",
        "En una categoria como Fuel (Gas,Diesel), se puede agregar una columna por variable (una columna para gas y otra diesel) y expresar con 0 y 1 si el renglon aplica o no a estas dimensiones.\n",
        "\n"
      ],
      "metadata": {
        "id": "YGETFTJGwB1k"
      }
    },
    {
      "cell_type": "code",
      "source": [
        "import numpy as np\n",
        "#Usar replace para quitar espacios sin data\n",
        "# replace \"?\" to NaN\n",
        "df.replace(\"?\", np.nan, inplace = True)\n",
        "df.head(5)"
      ],
      "metadata": {
        "id": "Q1KXkzB4xBzB"
      },
      "execution_count": null,
      "outputs": []
    },
    {
      "cell_type": "code",
      "source": [
        "#Se puede remplazar data con promedios de la columna\n",
        "df[\"normalized-losses\"].replace(np.nan, avg_norm_loss, inplace=True)\n",
        "#o con peak-rpm\n",
        "df['peak-rpm'].replace(np.nan, avg_peakrpm, inplace=True)\n"
      ],
      "metadata": {
        "id": "rwIwYv_YxNRi"
      },
      "execution_count": null,
      "outputs": []
    },
    {
      "cell_type": "code",
      "source": [
        "#no es lo ideal, pero lo mas simple es simplemente eliminar los nas\n",
        "# simply drop whole row with NaN in \"price\" column\n",
        "df.dropna(subset=[\"price\"], axis=0, inplace=True)\n",
        "\n",
        "# reset index, because we droped two rows\n",
        "df.reset_index(drop=True, inplace=True)"
      ],
      "metadata": {
        "id": "wqRq6sUKxd66"
      },
      "execution_count": null,
      "outputs": []
    },
    {
      "cell_type": "code",
      "source": [
        "#se puede convertir los tipo de data para poder manipular la informacion adecuadamente\n",
        "df[[\"bore\", \"stroke\"]] = df[[\"bore\", \"stroke\"]].astype(\"float\")\n",
        "df[[\"normalized-losses\"]] = df[[\"normalized-losses\"]].astype(\"int\")\n",
        "df[[\"price\"]] = df[[\"price\"]].astype(\"float\")\n",
        "df[[\"peak-rpm\"]] = df[[\"peak-rpm\"]].astype(\"float\")\n"
      ],
      "metadata": {
        "id": "WKTG3Xbtxndo"
      },
      "execution_count": null,
      "outputs": []
    },
    {
      "cell_type": "code",
      "source": [
        "#Convertir una columna numerica a categoria con binning\n",
        "df['horsepower-binned'] = pd.cut(df['horsepower'], bins, labels=group_names, include_lowest=True )\n",
        "df[['horsepower','horsepower-binned']].head(20)\n"
      ],
      "metadata": {
        "id": "ZEBmApvmx2WM"
      },
      "execution_count": null,
      "outputs": []
    }
  ]
}