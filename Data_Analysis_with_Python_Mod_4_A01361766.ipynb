{
 "cells": [
  {
   "cell_type": "markdown",
   "metadata": {},
   "source": [
    "Modulo 4: Model Development"
   ]
  },
  {
   "cell_type": "markdown",
   "metadata": {},
   "source": [
    "Model Development 1:44\n",
    "-A model is a mathematical equation used to predict a value\n",
    "-More data=mejor prediccion"
   ]
  },
  {
   "cell_type": "markdown",
   "metadata": {},
   "source": [
    "Linear and Multiple Linear Regression 6:34\n",
    "-Una variable = Lienar regression\n",
    "-Mas de una = Multiple\n",
    "\n",
    "-X predictor\n",
    "-Y target\n"
   ]
  },
  {
   "cell_type": "markdown",
   "metadata": {},
   "source": [
    "Model Evaluation using Visualization 4:44\n",
    "-Visualmente podemos ver en una regresion, la relacion, la fuerza de la relacion y si es positiva o negativa\n",
    "-la forma mas simple de visualizar es usar regplot se seaborn\n",
    "-Distribution plots enseñan los valores reales vs los predecidos\n",
    "-Se puede usar la funcion de distplot para hacerlas"
   ]
  },
  {
   "cell_type": "markdown",
   "metadata": {},
   "source": [
    "Polynomial Regression and Pipelines 4:25\n",
    "-es un caso especial de linear regression\n",
    "-curvelinear relationships\n",
    "-podemos usar la funcion polyfit para las polynomial regressions\n",
    "\n",
    "-Podemos usar pipeline para crear un step by step con normalizaciones y transformaciones\n",
    "-Podemos sumar al pipeline tambien los mismos modelos predictivos"
   ]
  },
  {
   "cell_type": "markdown",
   "metadata": {},
   "source": [
    "Measures for In-Sample Evaluation 3:37\n",
    "-para poder medir el desempeño de un modelo podemos usar:\n",
    "    MSE\n",
    "    R squared\n",
    "mean_squared_error funcion en python\n",
    "lm.score funcion en python\n"
   ]
  },
  {
   "cell_type": "markdown",
   "metadata": {},
   "source": [
    "Prediction and Decision Making 5:03\n",
    "disminuir MSE no en todos los casos significa una mejor prediccion\n"
   ]
  },
  {
   "cell_type": "code",
   "execution_count": 1,
   "metadata": {},
   "outputs": [],
   "source": [
    "#LAB 4\n",
    "import pandas as pd\n",
    "import numpy as np\n",
    "import matplotlib.pyplot as plt"
   ]
  },
  {
   "cell_type": "code",
   "execution_count": null,
   "metadata": {},
   "outputs": [],
   "source": [
    "from pyodide.http import pyfetch\n",
    "\n",
    "async def download(url, filename):\n",
    "    response = await pyfetch(url)\n",
    "    if response.status == 200:\n",
    "        with open(filename, \"wb\") as f:\n",
    "            f.write(await response.bytes())"
   ]
  },
  {
   "cell_type": "code",
   "execution_count": null,
   "metadata": {},
   "outputs": [],
   "source": [
    "\n",
    "df = pd.read_csv(path)\n",
    "df.head()"
   ]
  },
  {
   "cell_type": "code",
   "execution_count": null,
   "metadata": {},
   "outputs": [],
   "source": [
    "#Q1\n",
    "\n",
    "lm1 = LinearRegression()\n",
    "lm1\n",
    "#B\n",
    "lm1.fit(df[['engine-size']], df[['price']])\n",
    "#C\n",
    "lm1\n",
    "lm1.coef_\n",
    "# Intercept\n",
    "lm1.intercept_\n",
    "#D\n",
    "Yhat=-7963.34 + 166.86*X\n",
    "\n",
    "Price=-7963.34 + 166.86*df['engine-size']"
   ]
  },
  {
   "cell_type": "code",
   "execution_count": null,
   "metadata": {},
   "outputs": [],
   "source": [
    "#Q2\n",
    "lm2 = LinearRegression()\n",
    "lm2.fit(df[['normalized-losses' , 'highway-mpg']],df['price'])\n",
    "lm2.coef_\n"
   ]
  },
  {
   "cell_type": "code",
   "execution_count": null,
   "metadata": {},
   "outputs": [],
   "source": [
    "#Q3\n",
    "df[[\"peak-rpm\",\"highway-mpg\",\"price\"]].corr()"
   ]
  },
  {
   "cell_type": "code",
   "execution_count": null,
   "metadata": {},
   "outputs": [],
   "source": [
    "#Q4\n",
    "\n",
    "f1 = np.polyfit(x, y, 11)\n",
    "p1 = np.poly1d(f1)\n",
    "print(p1)\n",
    "PlotPolly(p1,x,y, 'Highway MPG')"
   ]
  },
  {
   "cell_type": "code",
   "execution_count": null,
   "metadata": {},
   "outputs": [],
   "source": [
    "#Q5\n",
    "Input=[('scale',StandardScaler()),('model',LinearRegression())]\n",
    "\n",
    "pipe=Pipeline(Input)\n",
    "\n",
    "pipe.fit(Z,y)\n",
    "\n",
    "ypipe=pipe.predict(Z)\n",
    "ypipe[0:10]"
   ]
  }
 ],
 "metadata": {
  "kernelspec": {
   "display_name": "Python 3.10.5 64-bit",
   "language": "python",
   "name": "python3"
  },
  "language_info": {
   "codemirror_mode": {
    "name": "ipython",
    "version": 3
   },
   "file_extension": ".py",
   "mimetype": "text/x-python",
   "name": "python",
   "nbconvert_exporter": "python",
   "pygments_lexer": "ipython3",
   "version": "3.10.5"
  },
  "orig_nbformat": 4,
  "vscode": {
   "interpreter": {
    "hash": "92ef8d22b629b1700fd535cf7177d6b2181f29ca6fc262a3063509d04aaf2a38"
   }
  }
 },
 "nbformat": 4,
 "nbformat_minor": 2
}
