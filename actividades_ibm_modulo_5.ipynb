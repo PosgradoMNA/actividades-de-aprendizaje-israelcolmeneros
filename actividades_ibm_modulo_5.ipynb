{
  "nbformat": 4,
  "nbformat_minor": 0,
  "metadata": {
    "colab": {
      "provenance": [],
      "authorship_tag": "ABX9TyMgC3LDGRqj2vqPuO2QKt7p",
      "include_colab_link": true
    },
    "kernelspec": {
      "name": "python3",
      "display_name": "Python 3"
    },
    "language_info": {
      "name": "python"
    }
  },
  "cells": [
    {
      "cell_type": "markdown",
      "metadata": {
        "id": "view-in-github",
        "colab_type": "text"
      },
      "source": [
        "<a href=\"https://colab.research.google.com/github/PosgradoMNA/actividades-de-aprendizaje-israelcolmeneros/blob/main/actividades_ibm_modulo_5.ipynb\" target=\"_parent\"><img src=\"https://colab.research.google.com/assets/colab-badge.svg\" alt=\"Open In Colab\"/></a>"
      ]
    },
    {
      "cell_type": "markdown",
      "source": [
        "## **Python for Data Science**\n",
        "Jesus Israel Colmeneros Castañeda\n",
        "A01361766"
      ],
      "metadata": {
        "id": "LuX490FnrKul"
      }
    },
    {
      "cell_type": "markdown",
      "source": [
        "# Module 5 - Working with Numpy Arrays & Simple APIs"
      ],
      "metadata": {
        "id": "b-TzjMexrQPv"
      }
    },
    {
      "cell_type": "markdown",
      "source": [
        "-Numpy 1D Arrays, es similar a una lista, podemos acceder a la informacion con Idex, podemos usar el metodo dtype para poder saber si es una array, se pueden modificar los elementos de los arra con los index, podemos hacer slicers del array.\n",
        "\n",
        "\n"
      ],
      "metadata": {
        "id": "vBus_hw4sEa3"
      }
    },
    {
      "cell_type": "markdown",
      "source": [
        "-Vector addition and subtraction, es mejor usar vectores y no arrays cuando se pueda porque ocupa menos espacio, los vectores se pueden multiplicar por un escalar, "
      ],
      "metadata": {
        "id": "61bQE_tEtClT"
      }
    },
    {
      "cell_type": "markdown",
      "source": [
        "-Hay funciones universales como max(), que puede identificar el elmento mas grande en un array.\n"
      ],
      "metadata": {
        "id": "7iuKv29Jts-Q"
      }
    },
    {
      "cell_type": "markdown",
      "source": [
        "-linspace, podemos usarlo para generar arrays indicando los parametros dentro de la funcion."
      ],
      "metadata": {
        "id": "L_q9dLAouQUO"
      }
    },
    {
      "cell_type": "code",
      "source": [
        "import numpy as np\n",
        "a=[1,2,3,4,5]\n",
        "x = np.array(a)\n",
        "type(x)\n",
        "x.shape\n",
        "x.dtype\n",
        "x.mean()"
      ],
      "metadata": {
        "colab": {
          "base_uri": "https://localhost:8080/"
        },
        "id": "OOKx-3ZIu36G",
        "outputId": "6ed55db2-3651-4b9c-a462-f0593a27d0b3"
      },
      "execution_count": 1,
      "outputs": [
        {
          "output_type": "execute_result",
          "data": {
            "text/plain": [
              "3.0"
            ]
          },
          "metadata": {},
          "execution_count": 1
        }
      ]
    },
    {
      "cell_type": "code",
      "source": [
        "np.array([1,-1])*np.array([1,1])"
      ],
      "metadata": {
        "colab": {
          "base_uri": "https://localhost:8080/"
        },
        "id": "Fk9zGlq3vbIH",
        "outputId": "a50c1551-cb6c-4b5d-d806-3ccaaf25a9a1"
      },
      "execution_count": 2,
      "outputs": [
        {
          "output_type": "execute_result",
          "data": {
            "text/plain": [
              "array([ 1, -1])"
            ]
          },
          "metadata": {},
          "execution_count": 2
        }
      ]
    },
    {
      "cell_type": "code",
      "source": [
        "np.dot(np.array([1,-1]),np.array([1,1]))"
      ],
      "metadata": {
        "colab": {
          "base_uri": "https://localhost:8080/"
        },
        "id": "OxIeK5O4vlPC",
        "outputId": "6ceb0170-0db5-4397-c421-e5edb9dc86cb"
      },
      "execution_count": 3,
      "outputs": [
        {
          "output_type": "execute_result",
          "data": {
            "text/plain": [
              "0"
            ]
          },
          "metadata": {},
          "execution_count": 3
        }
      ]
    },
    {
      "cell_type": "code",
      "source": [
        "# Create a python list\n",
        "\n",
        "a = [\"0\", 1, \"two\", \"3\", 4]"
      ],
      "metadata": {
        "id": "Tj6_5mbKvxIO"
      },
      "execution_count": 4,
      "outputs": []
    },
    {
      "cell_type": "code",
      "source": [
        "# import numpy library\n",
        "\n",
        "import numpy as np \n",
        "a = np.array([0, 1, 2, 3, 4])\n",
        "a"
      ],
      "metadata": {
        "colab": {
          "base_uri": "https://localhost:8080/"
        },
        "id": "mthAUlVnv0e7",
        "outputId": "c5468f43-8cba-45ed-c58e-e7a4104866dd"
      },
      "execution_count": 5,
      "outputs": [
        {
          "output_type": "execute_result",
          "data": {
            "text/plain": [
              "array([0, 1, 2, 3, 4])"
            ]
          },
          "metadata": {},
          "execution_count": 5
        }
      ]
    },
    {
      "cell_type": "code",
      "source": [
        "# Print each element\n",
        "\n",
        "print(\"a[0]:\", a[0])\n",
        "print(\"a[1]:\", a[1])\n",
        "print(\"a[2]:\", a[2])\n",
        "print(\"a[3]:\", a[3])\n",
        "print(\"a[4]:\", a[4])"
      ],
      "metadata": {
        "colab": {
          "base_uri": "https://localhost:8080/"
        },
        "id": "h7qpKIoHv88b",
        "outputId": "a98d031b-9f75-46d6-93da-ab17c848040e"
      },
      "execution_count": 6,
      "outputs": [
        {
          "output_type": "stream",
          "name": "stdout",
          "text": [
            "a[0]: 0\n",
            "a[1]: 1\n",
            "a[2]: 2\n",
            "a[3]: 3\n",
            "a[4]: 4\n"
          ]
        }
      ]
    },
    {
      "cell_type": "code",
      "source": [
        "c = np.array([20, 1, 2, 3, 4])\n",
        "c\n",
        "c[4] = 0\n",
        "c\n",
        "d = c[1:4]\n",
        "d"
      ],
      "metadata": {
        "colab": {
          "base_uri": "https://localhost:8080/"
        },
        "id": "kaFdFV3RwFpT",
        "outputId": "f2af1cbb-0b6c-40e7-bcaf-379f3d326f50"
      },
      "execution_count": 10,
      "outputs": [
        {
          "output_type": "execute_result",
          "data": {
            "text/plain": [
              "array([1, 2, 3])"
            ]
          },
          "metadata": {},
          "execution_count": 10
        }
      ]
    },
    {
      "cell_type": "code",
      "source": [
        "arr1 = np.array([10, 20, 30, 40, 50, 60])\n",
        "arr2 = np.array([20, 21, 22, 23, 24, 25])\n",
        "\n",
        "# Enter your code here\n",
        "arr3 = np.subtract(arr1, arr2)\n",
        "arr3"
      ],
      "metadata": {
        "colab": {
          "base_uri": "https://localhost:8080/"
        },
        "id": "C8NyXbrowpot",
        "outputId": "ae444b7e-8983-4897-c4e0-d52ce8f952ad"
      },
      "execution_count": 15,
      "outputs": [
        {
          "output_type": "execute_result",
          "data": {
            "text/plain": [
              "array([-10,  -1,   8,  17,  26,  35])"
            ]
          },
          "metadata": {},
          "execution_count": 15
        }
      ]
    },
    {
      "cell_type": "code",
      "source": [
        "# Create a numpy array\n",
        "\n",
        "x = np.array([1, 2])\n",
        "x\n",
        "y = np.array([2, 1])\n",
        "y\n",
        "z = np.multiply(x, y)\n",
        "z"
      ],
      "metadata": {
        "colab": {
          "base_uri": "https://localhost:8080/"
        },
        "id": "YUzIpPbSwv63",
        "outputId": "1ad2f55e-74ee-4855-be47-c27b915c6899"
      },
      "execution_count": 17,
      "outputs": [
        {
          "output_type": "execute_result",
          "data": {
            "text/plain": [
              "array([2, 2])"
            ]
          },
          "metadata": {},
          "execution_count": 17
        }
      ]
    },
    {
      "cell_type": "code",
      "source": [
        "a = np.array([10, 20, 30])\n",
        "a\n",
        "b = np.array([2, 10, 5])\n",
        "b\n",
        "c = np.divide(a, b)\n",
        "c"
      ],
      "metadata": {
        "colab": {
          "base_uri": "https://localhost:8080/"
        },
        "id": "DnFfaJdsw2wU",
        "outputId": "451378ed-eff1-4592-ebd1-cf1e4683a53a"
      },
      "execution_count": 18,
      "outputs": [
        {
          "output_type": "execute_result",
          "data": {
            "text/plain": [
              "array([5., 2., 6.])"
            ]
          },
          "metadata": {},
          "execution_count": 18
        }
      ]
    },
    {
      "cell_type": "code",
      "source": [
        "X = np.array([1, 2])\n",
        "Y = np.array([3, 2])\n",
        "# Calculate the dot product\n",
        "\n",
        "np.dot(X, Y)"
      ],
      "metadata": {
        "colab": {
          "base_uri": "https://localhost:8080/"
        },
        "id": "jb3utSmYw-Yr",
        "outputId": "bff9bf1a-413a-4b9e-eb4e-89ea11395fa0"
      },
      "execution_count": 19,
      "outputs": [
        {
          "output_type": "execute_result",
          "data": {
            "text/plain": [
              "7"
            ]
          },
          "metadata": {},
          "execution_count": 19
        }
      ]
    },
    {
      "cell_type": "code",
      "source": [
        "# Makeup a numpy array within [-2, 2] and 5 elements\n",
        "\n",
        "np.linspace(-2, 2, num=5)"
      ],
      "metadata": {
        "colab": {
          "base_uri": "https://localhost:8080/"
        },
        "id": "CIkPEkwXxStb",
        "outputId": "5fe9ab49-13d1-4d9d-c193-c80418a8ca56"
      },
      "execution_count": 20,
      "outputs": [
        {
          "output_type": "execute_result",
          "data": {
            "text/plain": [
              "array([-2., -1.,  0.,  1.,  2.])"
            ]
          },
          "metadata": {},
          "execution_count": 20
        }
      ]
    },
    {
      "cell_type": "markdown",
      "source": [
        "-Numpy 2D Arrays, se pueden crear arrays de mas de una dimension, shape regresara un truple, tambien se pueden usar index para llamar numeros dentro del array, tambien se puede agregar valores como en los arrays o lists."
      ],
      "metadata": {
        "id": "MOwqPqmr0A9n"
      }
    },
    {
      "cell_type": "code",
      "source": [
        "import numpy as np\n",
        "A=np.array([[11,12],[21,22],[31,32]])\n",
        "type(A)\n",
        "A.shape\n",
        "A.dtype\n",
        "A[1]\n",
        "\n",
        "A=np.array([[11,12],[21,22]])\n",
        "B=np.array([[1, 0],[0,1]])\n",
        "\n",
        "C = A * B\n",
        "print(C)\n",
        "\n",
        "Z = np.dot(A,B)\n",
        "print(Z)"
      ],
      "metadata": {
        "colab": {
          "base_uri": "https://localhost:8080/"
        },
        "id": "emGkzRcZ1sGD",
        "outputId": "da517c29-7432-4aeb-888c-78a52b2b8e12"
      },
      "execution_count": 28,
      "outputs": [
        {
          "output_type": "stream",
          "name": "stdout",
          "text": [
            "[[11  0]\n",
            " [ 0 22]]\n",
            "[[11 12]\n",
            " [21 22]]\n"
          ]
        }
      ]
    },
    {
      "cell_type": "code",
      "source": [
        "A = np.array([[1,2],[3,4],[5,6],[7,8]])\n",
        "A"
      ],
      "metadata": {
        "colab": {
          "base_uri": "https://localhost:8080/"
        },
        "id": "wkL6PmmK1-CH",
        "outputId": "200bb9d4-59e1-465b-b1ad-2843d2efd942"
      },
      "execution_count": 30,
      "outputs": [
        {
          "output_type": "execute_result",
          "data": {
            "text/plain": [
              "array([[1, 2],\n",
              "       [3, 4],\n",
              "       [5, 6],\n",
              "       [7, 8]])"
            ]
          },
          "metadata": {},
          "execution_count": 30
        }
      ]
    },
    {
      "cell_type": "markdown",
      "source": [
        "-Simple APIs, Pandas = API, REST APIs similar a API pero se conecta directo a internet, hay una llamada nba_api que contiene la informacion mas actualizada de NBA."
      ],
      "metadata": {
        "id": "xH6EiGAw2f2q"
      }
    },
    {
      "cell_type": "markdown",
      "source": [
        "las APIs tambien se pueden usar para usar modelos de IA, las keys son los accesos al API, se te puede cobrar por cada uso, por ejemplo watson, "
      ],
      "metadata": {
        "id": "CTNbs1Bb3nbA"
      }
    },
    {
      "cell_type": "markdown",
      "source": [
        "Examen Final"
      ],
      "metadata": {
        "id": "yHuoggjF7Rzp"
      }
    },
    {
      "cell_type": "code",
      "source": [
        "a=np.array([0,1,0,1,0])\n",
        "\n",
        "b=np.array([1,0,1,0,1])\n",
        "\n",
        "a*b"
      ],
      "metadata": {
        "colab": {
          "base_uri": "https://localhost:8080/"
        },
        "id": "Cgg1Yl-p5JXx",
        "outputId": "14daebbe-35a7-423a-8671-ccbf02dc883d"
      },
      "execution_count": 32,
      "outputs": [
        {
          "output_type": "execute_result",
          "data": {
            "text/plain": [
              "array([0, 0, 0, 0, 0])"
            ]
          },
          "metadata": {},
          "execution_count": 32
        }
      ]
    },
    {
      "cell_type": "code",
      "source": [
        "a=np.array([1,1,1,1,1])\n",
        "\n",
        "a+10"
      ],
      "metadata": {
        "colab": {
          "base_uri": "https://localhost:8080/"
        },
        "id": "zUOU4yop5TBe",
        "outputId": "b8d8256a-a1a0-479e-e909-2e06870bd7cf"
      },
      "execution_count": 34,
      "outputs": [
        {
          "output_type": "execute_result",
          "data": {
            "text/plain": [
              "array([11, 11, 11, 11, 11])"
            ]
          },
          "metadata": {},
          "execution_count": 34
        }
      ]
    },
    {
      "cell_type": "code",
      "source": [
        "A='1234567'\n",
        "A[1::2]"
      ],
      "metadata": {
        "colab": {
          "base_uri": "https://localhost:8080/",
          "height": 35
        },
        "id": "1ncZVGp46kd_",
        "outputId": "de05573b-53ec-40ba-b558-9d09c352aaa6"
      },
      "execution_count": 35,
      "outputs": [
        {
          "output_type": "execute_result",
          "data": {
            "text/plain": [
              "'246'"
            ],
            "application/vnd.google.colaboratory.intrinsic+json": {
              "type": "string"
            }
          },
          "metadata": {},
          "execution_count": 35
        }
      ]
    },
    {
      "cell_type": "code",
      "source": [
        "Name=\"Michael Jackson\" \n",
        "Name.find('el')"
      ],
      "metadata": {
        "colab": {
          "base_uri": "https://localhost:8080/"
        },
        "id": "qVDiKicK6wzC",
        "outputId": "95132c71-cd49-41d0-f6df-9b2ab189bd04"
      },
      "execution_count": 36,
      "outputs": [
        {
          "output_type": "execute_result",
          "data": {
            "text/plain": [
              "5"
            ]
          },
          "metadata": {},
          "execution_count": 36
        }
      ]
    },
    {
      "cell_type": "code",
      "source": [
        " '1,2,3,4'.split(',')"
      ],
      "metadata": {
        "colab": {
          "base_uri": "https://localhost:8080/"
        },
        "id": "8sYTCrKj7NUL",
        "outputId": "462cbe16-9bd6-4212-ae4b-0566cd03d440"
      },
      "execution_count": 37,
      "outputs": [
        {
          "output_type": "execute_result",
          "data": {
            "text/plain": [
              "['1', '2', '3', '4']"
            ]
          },
          "metadata": {},
          "execution_count": 37
        }
      ]
    },
    {
      "cell_type": "code",
      "source": [
        "A=['1','2','3']\n",
        "\n",
        "for a in A:\n",
        "  print(2*a)"
      ],
      "metadata": {
        "colab": {
          "base_uri": "https://localhost:8080/"
        },
        "id": "r8eaxaNV8GPS",
        "outputId": "e9f40da8-f87d-42f5-cc86-d242c78d05e4"
      },
      "execution_count": 39,
      "outputs": [
        {
          "output_type": "stream",
          "name": "stdout",
          "text": [
            "11\n",
            "22\n",
            "33\n"
          ]
        }
      ]
    },
    {
      "cell_type": "code",
      "source": [
        "class Points(object):\n",
        "\n",
        "  def __init__(self,x,y):\n",
        "\n",
        "    self.x=x\n",
        "\n",
        "    self.y=y\n",
        "\n",
        "  def print_point(self):\n",
        "\n",
        "    print('x=',self.x,'y=',self.y)"
      ],
      "metadata": {
        "id": "u3ms3wV48qaU"
      },
      "execution_count": 40,
      "outputs": []
    }
  ]
}